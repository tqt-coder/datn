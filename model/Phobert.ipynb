{
  "cells": [
    {
      "cell_type": "code",
      "execution_count": 1,
      "metadata": {
        "colab": {
          "base_uri": "https://localhost:8080/"
        },
        "id": "N6nkXigkBlxA",
        "outputId": "aed12886-fa28-4818-9496-b65f443db420"
      },
      "outputs": [
        {
          "name": "stdout",
          "output_type": "stream",
          "text": [
            "Mounted at /content/drive\n"
          ]
        }
      ],
      "source": [
        "from google.colab import drive\n",
        "drive.mount('/content/drive')"
      ]
    },
    {
      "cell_type": "code",
      "execution_count": 2,
      "metadata": {
        "colab": {
          "base_uri": "https://localhost:8080/"
        },
        "id": "U8WuUqPYBphD",
        "outputId": "2381c0ae-53a3-44d3-e17f-46820ee69575"
      },
      "outputs": [
        {
          "data": {
            "text/plain": [
              "['VnCoreNLP', 'test_vi.json', 'val_vi.json', 'train_vi.json', 'final_model']"
            ]
          },
          "execution_count": 2,
          "metadata": {},
          "output_type": "execute_result"
        }
      ],
      "source": [
        "folder_path = '/content/drive/MyDrive/pho-bert'\n",
        "import os\n",
        "os.listdir(folder_path)"
      ]
    },
    {
      "cell_type": "code",
      "execution_count": 3,
      "metadata": {
        "colab": {
          "base_uri": "https://localhost:8080/"
        },
        "id": "W1EnGsAeB2-Y",
        "outputId": "592cc2f5-5c2f-47eb-9d21-805b28de3ba6"
      },
      "outputs": [
        {
          "name": "stdout",
          "output_type": "stream",
          "text": [
            "Looking in indexes: https://pypi.org/simple, https://us-python.pkg.dev/colab-wheels/public/simple/\n",
            "Collecting transformers\n",
            "  Downloading transformers-4.28.1-py3-none-any.whl (7.0 MB)\n",
            "\u001b[2K     \u001b[90m━━━━━━━━━━━━━━━━━━━━━━━━━━━━━━━━━━━━━━━━\u001b[0m \u001b[32m7.0/7.0 MB\u001b[0m \u001b[31m49.8 MB/s\u001b[0m eta \u001b[36m0:00:00\u001b[0m\n",
            "\u001b[?25hRequirement already satisfied: filelock in /usr/local/lib/python3.10/dist-packages (from transformers) (3.12.0)\n",
            "Collecting huggingface-hub<1.0,>=0.11.0 (from transformers)\n",
            "  Downloading huggingface_hub-0.14.1-py3-none-any.whl (224 kB)\n",
            "\u001b[2K     \u001b[90m━━━━━━━━━━━━━━━━━━━━━━━━━━━━━━━━━━━━━━\u001b[0m \u001b[32m224.5/224.5 kB\u001b[0m \u001b[31m28.4 MB/s\u001b[0m eta \u001b[36m0:00:00\u001b[0m\n",
            "\u001b[?25hRequirement already satisfied: numpy>=1.17 in /usr/local/lib/python3.10/dist-packages (from transformers) (1.22.4)\n",
            "Requirement already satisfied: packaging>=20.0 in /usr/local/lib/python3.10/dist-packages (from transformers) (23.1)\n",
            "Requirement already satisfied: pyyaml>=5.1 in /usr/local/lib/python3.10/dist-packages (from transformers) (6.0)\n",
            "Requirement already satisfied: regex!=2019.12.17 in /usr/local/lib/python3.10/dist-packages (from transformers) (2022.10.31)\n",
            "Requirement already satisfied: requests in /usr/local/lib/python3.10/dist-packages (from transformers) (2.27.1)\n",
            "Collecting tokenizers!=0.11.3,<0.14,>=0.11.1 (from transformers)\n",
            "  Downloading tokenizers-0.13.3-cp310-cp310-manylinux_2_17_x86_64.manylinux2014_x86_64.whl (7.8 MB)\n",
            "\u001b[2K     \u001b[90m━━━━━━━━━━━━━━━━━━━━━━━━━━━━━━━━━━━━━━━━\u001b[0m \u001b[32m7.8/7.8 MB\u001b[0m \u001b[31m93.6 MB/s\u001b[0m eta \u001b[36m0:00:00\u001b[0m\n",
            "\u001b[?25hRequirement already satisfied: tqdm>=4.27 in /usr/local/lib/python3.10/dist-packages (from transformers) (4.65.0)\n",
            "Requirement already satisfied: fsspec in /usr/local/lib/python3.10/dist-packages (from huggingface-hub<1.0,>=0.11.0->transformers) (2023.4.0)\n",
            "Requirement already satisfied: typing-extensions>=3.7.4.3 in /usr/local/lib/python3.10/dist-packages (from huggingface-hub<1.0,>=0.11.0->transformers) (4.5.0)\n",
            "Requirement already satisfied: urllib3<1.27,>=1.21.1 in /usr/local/lib/python3.10/dist-packages (from requests->transformers) (1.26.15)\n",
            "Requirement already satisfied: certifi>=2017.4.17 in /usr/local/lib/python3.10/dist-packages (from requests->transformers) (2022.12.7)\n",
            "Requirement already satisfied: charset-normalizer~=2.0.0 in /usr/local/lib/python3.10/dist-packages (from requests->transformers) (2.0.12)\n",
            "Requirement already satisfied: idna<4,>=2.5 in /usr/local/lib/python3.10/dist-packages (from requests->transformers) (3.4)\n",
            "Installing collected packages: tokenizers, huggingface-hub, transformers\n",
            "Successfully installed huggingface-hub-0.14.1 tokenizers-0.13.3 transformers-4.28.1\n",
            "Looking in indexes: https://pypi.org/simple, https://us-python.pkg.dev/colab-wheels/public/simple/\n",
            "Requirement already satisfied: torch in /usr/local/lib/python3.10/dist-packages (2.0.0+cu118)\n",
            "Requirement already satisfied: filelock in /usr/local/lib/python3.10/dist-packages (from torch) (3.12.0)\n",
            "Requirement already satisfied: typing-extensions in /usr/local/lib/python3.10/dist-packages (from torch) (4.5.0)\n",
            "Requirement already satisfied: sympy in /usr/local/lib/python3.10/dist-packages (from torch) (1.11.1)\n",
            "Requirement already satisfied: networkx in /usr/local/lib/python3.10/dist-packages (from torch) (3.1)\n",
            "Requirement already satisfied: jinja2 in /usr/local/lib/python3.10/dist-packages (from torch) (3.1.2)\n",
            "Requirement already satisfied: triton==2.0.0 in /usr/local/lib/python3.10/dist-packages (from torch) (2.0.0)\n",
            "Requirement already satisfied: cmake in /usr/local/lib/python3.10/dist-packages (from triton==2.0.0->torch) (3.25.2)\n",
            "Requirement already satisfied: lit in /usr/local/lib/python3.10/dist-packages (from triton==2.0.0->torch) (16.0.2)\n",
            "Requirement already satisfied: MarkupSafe>=2.0 in /usr/local/lib/python3.10/dist-packages (from jinja2->torch) (2.1.2)\n",
            "Requirement already satisfied: mpmath>=0.19 in /usr/local/lib/python3.10/dist-packages (from sympy->torch) (1.3.0)\n",
            "Looking in indexes: https://pypi.org/simple, https://us-python.pkg.dev/colab-wheels/public/simple/\n",
            "Collecting vncorenlp\n",
            "  Downloading vncorenlp-1.0.3.tar.gz (2.6 MB)\n",
            "\u001b[2K     \u001b[90m━━━━━━━━━━━━━━━━━━━━━━━━━━━━━━━━━━━━━━━━\u001b[0m \u001b[32m2.6/2.6 MB\u001b[0m \u001b[31m64.3 MB/s\u001b[0m eta \u001b[36m0:00:00\u001b[0m\n",
            "\u001b[?25h  Preparing metadata (setup.py) ... \u001b[?25l\u001b[?25hdone\n",
            "Requirement already satisfied: requests in /usr/local/lib/python3.10/dist-packages (from vncorenlp) (2.27.1)\n",
            "Requirement already satisfied: urllib3<1.27,>=1.21.1 in /usr/local/lib/python3.10/dist-packages (from requests->vncorenlp) (1.26.15)\n",
            "Requirement already satisfied: certifi>=2017.4.17 in /usr/local/lib/python3.10/dist-packages (from requests->vncorenlp) (2022.12.7)\n",
            "Requirement already satisfied: charset-normalizer~=2.0.0 in /usr/local/lib/python3.10/dist-packages (from requests->vncorenlp) (2.0.12)\n",
            "Requirement already satisfied: idna<4,>=2.5 in /usr/local/lib/python3.10/dist-packages (from requests->vncorenlp) (3.4)\n",
            "Building wheels for collected packages: vncorenlp\n",
            "  Building wheel for vncorenlp (setup.py) ... \u001b[?25l\u001b[?25hdone\n",
            "  Created wheel for vncorenlp: filename=vncorenlp-1.0.3-py3-none-any.whl size=2645952 sha256=bdd976a6396adba5f81de5a5bab824fbaca45d99622831581010df4dca4e3b5f\n",
            "  Stored in directory: /root/.cache/pip/wheels/5d/d9/b3/41f6c6b1ab758561fd4aab55dc0480b9d7a131c6aaa573a3fa\n",
            "Successfully built vncorenlp\n",
            "Installing collected packages: vncorenlp\n",
            "Successfully installed vncorenlp-1.0.3\n"
          ]
        }
      ],
      "source": [
        "!pip install transformers\n",
        "!pip install torch\n",
        "!pip install vncorenlp"
      ]
    },
    {
      "cell_type": "code",
      "execution_count": 4,
      "metadata": {
        "id": "EKijEfBJCUUf"
      },
      "outputs": [],
      "source": [
        "from transformers import BertTokenizer, BertForPreTraining, BertForQuestionAnswering, BertModel, BertConfig\n",
        "from transformers import XLMRobertaForQuestionAnswering, XLMRobertaTokenizer\n",
        "import torch\n",
        "import torch.nn as nn\n",
        "from transformers.data.metrics.squad_metrics import compute_predictions_log_probs, compute_predictions_logits, squad_evaluate\n",
        "from transformers.data.processors.squad import SquadResult, SquadV1Processor, SquadV2Processor, SquadProcessor, SquadExample\n",
        "from transformers import AutoModel, AutoTokenizer\n",
        "from transformers import RobertaForQuestionAnswering, RobertaConfig, WEIGHTS_NAME"
      ]
    },
    {
      "cell_type": "code",
      "execution_count": 8,
      "metadata": {
        "colab": {
          "base_uri": "https://localhost:8080/",
          "height": 329,
          "referenced_widgets": [
            "c2850c51aeeb4d92bca807f184e3b322",
            "aad07e5884474a689cf9fc6554e2d3c9",
            "c752e01289524e49bb3bb33d6fd89605",
            "fd4befbe3817493b972f656973dd5fa4",
            "ef95ba56d78445ecb1cb740b321d7a1b",
            "70ddafdab2cb4417b939aaf802f2c81e",
            "9f3979f787ad4036b011023016c806e5",
            "c084d3d64d734fb7ac8e3af9da3d3887",
            "962080dc41c242c684d857e9baf174e7",
            "887319e205c341df931e784c59abc7b7",
            "c84f0885c5da467d9cc49c5853bec854",
            "4870675ae59a4c508c7c2cc47e4dc280",
            "1291e668921b4247b4d8ec18542f9977",
            "3d495a2e294f4b5b865a057df78065df",
            "c7c08e103307479db5166f65f9c24f88",
            "b90471c43afa44a9bbe7dd82757bb4ae",
            "ee60c9565f544b168a1757d5e9fca961",
            "c2f8c221aa6e4b17b5e17600849a7a49",
            "cb0c9b7ed9414269ba0d191cfd20d91a",
            "ce2aa5a82c534703a5d56266471ad529",
            "7964e7efcc4447ef8ad5e45bb9f7c541",
            "77cce7ea0d6e4bf184f484658d9b084d",
            "9e082b106ba44f95afb34359361d7f19",
            "7b9bd5154d27450a8fadb1931ef0880e",
            "ea40d751bd9841d1a5e666f62241cdcf",
            "d6d1e8e450924951bd8877fb9f6830cf",
            "af46b930d6d74809bf8934935b18c7f9",
            "586fba0ffc9f42a681bb855561072349",
            "40743a72dcd34644807fb8902457e20e",
            "fabc7e1ff410421cbb36c5c45f5d4839",
            "3c2e7d1303b842f2b9500567f8b4c6fc",
            "8c2f6c11c83949dda866aaacb0045640",
            "4ddfa803a8ef454680d679b2ee67e69e",
            "bbf28c9bb86f480a83f52b6b8b468c3e",
            "137bc8d2dd654176bf6a199db18209f4",
            "5497bae015754137bf8d52f65f43b9af",
            "e8dba1d8a80d44bbbf981da3509102cb",
            "99bedf508fc34bd7a964616574ec0ce4",
            "8d24b0cf150242fcb91a712e5c2c820a",
            "d0a9b95a9b394bf5b7d2ce6bce2fd83f",
            "3b91a074d6d144b88cf4fb46f36bd1b5",
            "db846859e34c45248cc14046e0bdc99d",
            "8622c77477af413eb852dbc385999b35",
            "6bf44470d5f949c8996ab4e3e4c0965a"
          ]
        },
        "id": "8Ww9c9T0ChT-",
        "outputId": "b321bc7a-6196-4048-b45b-b71572247283"
      },
      "outputs": [
        {
          "data": {
            "application/vnd.jupyter.widget-view+json": {
              "model_id": "c2850c51aeeb4d92bca807f184e3b322",
              "version_major": 2,
              "version_minor": 0
            },
            "text/plain": [
              "Downloading (…)lve/main/config.json:   0%|          | 0.00/558 [00:00<?, ?B/s]"
            ]
          },
          "metadata": {},
          "output_type": "display_data"
        },
        {
          "data": {
            "application/vnd.jupyter.widget-view+json": {
              "model_id": "4870675ae59a4c508c7c2cc47e4dc280",
              "version_major": 2,
              "version_minor": 0
            },
            "text/plain": [
              "Downloading pytorch_model.bin:   0%|          | 0.00/1.48G [00:00<?, ?B/s]"
            ]
          },
          "metadata": {},
          "output_type": "display_data"
        },
        {
          "name": "stderr",
          "output_type": "stream",
          "text": [
            "Some weights of the model checkpoint at vinai/phobert-large were not used when initializing RobertaModel: ['lm_head.layer_norm.weight', 'lm_head.dense.weight', 'lm_head.layer_norm.bias', 'lm_head.decoder.bias', 'lm_head.bias', 'lm_head.decoder.weight', 'lm_head.dense.bias']\n",
            "- This IS expected if you are initializing RobertaModel from the checkpoint of a model trained on another task or with another architecture (e.g. initializing a BertForSequenceClassification model from a BertForPreTraining model).\n",
            "- This IS NOT expected if you are initializing RobertaModel from the checkpoint of a model that you expect to be exactly identical (initializing a BertForSequenceClassification model from a BertForSequenceClassification model).\n"
          ]
        },
        {
          "data": {
            "application/vnd.jupyter.widget-view+json": {
              "model_id": "9e082b106ba44f95afb34359361d7f19",
              "version_major": 2,
              "version_minor": 0
            },
            "text/plain": [
              "Downloading (…)solve/main/vocab.txt:   0%|          | 0.00/895k [00:00<?, ?B/s]"
            ]
          },
          "metadata": {},
          "output_type": "display_data"
        },
        {
          "data": {
            "application/vnd.jupyter.widget-view+json": {
              "model_id": "bbf28c9bb86f480a83f52b6b8b468c3e",
              "version_major": 2,
              "version_minor": 0
            },
            "text/plain": [
              "Downloading (…)solve/main/bpe.codes:   0%|          | 0.00/1.14M [00:00<?, ?B/s]"
            ]
          },
          "metadata": {},
          "output_type": "display_data"
        },
        {
          "name": "stderr",
          "output_type": "stream",
          "text": [
            "Special tokens have been added in the vocabulary, make sure the associated word embeddings are fine-tuned or trained.\n",
            "Some weights of the model checkpoint at vinai/phobert-large were not used when initializing RobertaForQuestionAnswering: ['lm_head.layer_norm.weight', 'lm_head.dense.weight', 'lm_head.layer_norm.bias', 'lm_head.decoder.bias', 'lm_head.bias', 'lm_head.decoder.weight', 'lm_head.dense.bias']\n",
            "- This IS expected if you are initializing RobertaForQuestionAnswering from the checkpoint of a model trained on another task or with another architecture (e.g. initializing a BertForSequenceClassification model from a BertForPreTraining model).\n",
            "- This IS NOT expected if you are initializing RobertaForQuestionAnswering from the checkpoint of a model that you expect to be exactly identical (initializing a BertForSequenceClassification model from a BertForSequenceClassification model).\n",
            "Some weights of RobertaForQuestionAnswering were not initialized from the model checkpoint at vinai/phobert-large and are newly initialized: ['qa_outputs.weight', 'qa_outputs.bias']\n",
            "You should probably TRAIN this model on a down-stream task to be able to use it for predictions and inference.\n"
          ]
        }
      ],
      "source": [
        "phobert = AutoModel.from_pretrained(\"vinai/phobert-large\")\n",
        "tokenizer = AutoTokenizer.from_pretrained(\"vinai/phobert-large\")\n",
        "model = RobertaForQuestionAnswering(phobert.config).from_pretrained(\"vinai/phobert-large\")"
      ]
    },
    {
      "cell_type": "code",
      "execution_count": 10,
      "metadata": {
        "id": "vrBjH3zKCwxH"
      },
      "outputs": [],
      "source": [
        "from vncorenlp import VnCoreNLP\n",
        "annotator = VnCoreNLP(\"/content/drive/MyDrive/pho-bert/VnCoreNLP-1.1.1/VnCoreNLP-1.1.1/VnCoreNLP-1.1.1.jar\",port=9000, annotators=\"wseg,pos,ner,parse\", max_heap_size='-Xmx2g') \n",
        "def VnCoreNLP1(X_train):\n",
        "  X_train = annotator.tokenize(X_train)\n",
        "  p = ''\n",
        "  for i in range(0, len(X_train)):\n",
        "    for x in X_train[i]:\n",
        "      w = ''\n",
        "      w = w + x + ' '\n",
        "      p+=w\n",
        "  p=p.replace(\" ,\",\",\")\n",
        "  p=p.replace(\" .\",\".\")\n",
        "  p=p.replace(\"( \",\"(\")\n",
        "  p=p.replace(\" )\",\")\")\n",
        "  p=p.replace(' \" ',' \"')\n",
        "  p=p.replace(\"* \",\"*\")\n",
        "  p=p.replace(\" ;\",\";\")\n",
        "  p=p.replace(\" ?\",\"?\")\n",
        "  p=p.replace(\" {\",\"{\")\n",
        "  p=p.replace(\"{ \",\"{\")\n",
        "  p=p.replace(\" }\",\"}\")\n",
        "  p=p.replace(\"} \",\"}\")\n",
        "  p=p.replace(\" /\",\"/\")\n",
        "  p=p.replace(\"/ \",\"/\")\n",
        "  return p"
      ]
    },
    {
      "cell_type": "code",
      "execution_count": 11,
      "metadata": {
        "id": "tSPXw3bxC5QZ"
      },
      "outputs": [],
      "source": [
        "def checkAns(answer, context_text):\n",
        "  ans=context_text[answer[\"answer_start\"] : answer[\"answer_start\"]+ len(answer[\"text\"])]\n",
        "  l=ans.replace(\"_\",\" \")\n",
        "  if(l == answer[\"text\"]):\n",
        "    return ans, answer[\"answer_start\"]\n",
        "  else:\n",
        "    firstWord=answer[\"text\"].split(' ')[0]\n",
        "    lenWord=len(firstWord)\n",
        "    for i in range(1,8):\n",
        "      try:\n",
        "        position_1=answer[\"answer_start\"]-i\n",
        "        word=context_text[position_1: position_1+ lenWord]\n",
        "        if(firstWord == word):\n",
        "          return context_text[position_1: position_1+ len(answer[\"text\"])],position_1\n",
        "        position_2=answer[\"answer_start\"]+i\n",
        "        word=context_text[position_2: position_2+ lenWord]\n",
        "        if(firstWord == word):\n",
        "          return context_text[position_2: position_2+ len(answer[\"text\"])],position_2\n",
        "      except:\n",
        "        return ans, answer[\"answer_start\"]\n",
        "    return ans, answer[\"answer_start\"]"
      ]
    },
    {
      "cell_type": "code",
      "execution_count": 12,
      "metadata": {
        "id": "2C7C2MT_C6Ys"
      },
      "outputs": [],
      "source": [
        "def checkTempAns(answer, context_text):\n",
        "  firstWord=answer[\"text\"].split(' ')[0]\n",
        "  lenWord=len(firstWord)\n",
        "  for i in range(1,8):\n",
        "    try:\n",
        "      position_1=answer[\"answer_start\"]-i\n",
        "      word=context_text[position_1: position_1+ lenWord]\n",
        "      if(firstWord == word):\n",
        "        return context_text[position_1: position_1+ len(answer[\"text\"])],position_1\n",
        "      position_2=answer[\"answer_start\"]+i\n",
        "      word=context_text[position_2: position_2+ lenWord]\n",
        "      if(firstWord == word):\n",
        "        return context_text[position_2: position_2+ len(answer[\"text\"])],position_2\n",
        "    except:\n",
        "      return context_text[answer[\"answer_start\"] : answer[\"answer_start\"]+ len(answer[\"text\"])], answer[\"answer_start\"]\n",
        "  return context_text[answer[\"answer_start\"] : answer[\"answer_start\"]+ len(answer[\"text\"])], answer[\"answer_start\"]"
      ]
    },
    {
      "cell_type": "code",
      "execution_count": 13,
      "metadata": {
        "id": "aTjeQDVoC9XG"
      },
      "outputs": [],
      "source": [
        "from tqdm import tqdm\n",
        "class VnCoreSquad(SquadProcessor):\n",
        "  train_file = \"train-v1.1.json\"\n",
        "  dev_file = \"dev-v1.1.json\"\n",
        "  def _create_examples(self, input_data, set_type):\n",
        "        is_training = set_type == \"train\"\n",
        "        examples = []\n",
        "        demso=0\n",
        "        for entry in tqdm(input_data):\n",
        "            title = entry[\"title\"] \n",
        "            for paragraph in entry[\"paragraphs\"]:\n",
        "                context_text = VnCoreNLP1(paragraph[\"context\"])\n",
        "                for qa in paragraph[\"qas\"]:\n",
        "                    qas_id = qa[\"id\"]\n",
        "                    question_text = VnCoreNLP1(qa[\"question\"])\n",
        "                    start_position_character = None\n",
        "                    answer_text = None\n",
        "                    answers = []\n",
        "\n",
        "                    is_impossible = qa.get(\"is_impossible\", False)\n",
        "                    if not is_impossible:\n",
        "                        if is_training:\n",
        "                            answer = qa[\"answers\"][0]\n",
        "                            answer_text, start_position_character=checkAns(answer, context_text)\n",
        "                            qa[\"answers\"][0].update({\"text\": answer_text})\n",
        "                            qa[\"answers\"][0].update({\"answer_start\": start_position_character})\n",
        "                        else:\n",
        "                            for k in range(0, len(qa[\"answers\"])):\n",
        "                              ans, start_position=checkTempAns(qa[\"answers\"][k],context_text)\n",
        "                              qa[\"answers\"][k].update({\"text\": ans})\n",
        "                              qa[\"answers\"][k].update({\"answer_start\": start_position})\n",
        "                              \n",
        "                            answers = qa[\"answers\"]\n",
        "                    example = SquadExample(\n",
        "                        qas_id=qas_id,\n",
        "                        question_text=question_text,\n",
        "                        context_text=context_text,\n",
        "                        answer_text=answer_text,\n",
        "                        start_position_character=start_position_character,\n",
        "                        title=title,\n",
        "                        is_impossible=is_impossible,\n",
        "                        answers=answers,\n",
        "                    )\n",
        "                    examples.append(example)\n",
        "        return examples\n",
        "processor = VnCoreSquad()"
      ]
    },
    {
      "cell_type": "code",
      "execution_count": null,
      "metadata": {
        "id": "6g2EzlcdDDBH"
      },
      "outputs": [],
      "source": [
        "import json\n",
        "import pandas as pd\n",
        "from sklearn.model_selection import train_test_split"
      ]
    },
    {
      "cell_type": "code",
      "execution_count": null,
      "metadata": {
        "colab": {
          "base_uri": "https://localhost:8080/"
        },
        "id": "yx4fb35zDFsV",
        "outputId": "e168fbf1-9beb-4403-e9c5-4371ccd33e1b"
      },
      "outputs": [
        {
          "name": "stderr",
          "output_type": "stream",
          "text": [
            "100%|██████████| 110/110 [01:43<00:00,  1.06it/s]\n",
            "100%|██████████| 13/13 [00:13<00:00,  1.04s/it]\n"
          ]
        }
      ],
      "source": [
        "train_examples = processor.get_train_examples('','/content/drive/MyDrive/pho-bert/train_vi.json')\n",
        "dev_examples = processor.get_dev_examples('','/content/drive/MyDrive/pho-bert/val_vi.json')"
      ]
    },
    {
      "cell_type": "code",
      "execution_count": null,
      "metadata": {
        "id": "u5vXyXKHQKsP"
      },
      "outputs": [],
      "source": [
        "from transformers.data.processors.squad import squad_convert_examples_to_features"
      ]
    },
    {
      "cell_type": "code",
      "execution_count": null,
      "metadata": {
        "colab": {
          "base_uri": "https://localhost:8080/"
        },
        "id": "TlmwaVmBenG3",
        "outputId": "1019e6a5-c176-474d-d898-344adf6fe006"
      },
      "outputs": [
        {
          "name": "stderr",
          "output_type": "stream",
          "text": [
            "convert squad examples to features: 100%|██████████| 21187/21187 [01:19<00:00, 267.00it/s]\n",
            "add example index and unique id: 100%|██████████| 21187/21187 [00:00<00:00, 811994.87it/s]\n"
          ]
        }
      ],
      "source": [
        "train_features, train_dataset = squad_convert_examples_to_features(train_examples, \n",
        "                                                       tokenizer, \n",
        "                                                       max_seq_length = 256, \n",
        "                                                       doc_stride = 81,\n",
        "                                                       max_query_length = 81,\n",
        "                                                       is_training = True,\n",
        "                                                       return_dataset = 'pt',\n",
        "                                                       threads = 10\n",
        "                                                       )"
      ]
    },
    {
      "cell_type": "code",
      "execution_count": null,
      "metadata": {
        "id": "co76EEo5eqOz"
      },
      "outputs": [],
      "source": [
        "del train_examples"
      ]
    },
    {
      "cell_type": "code",
      "execution_count": 5,
      "metadata": {
        "id": "7LE_nRE4dlBQ"
      },
      "outputs": [],
      "source": [
        "from transformers.data.processors.squad import squad_convert_examples_to_features"
      ]
    },
    {
      "cell_type": "code",
      "execution_count": null,
      "metadata": {
        "colab": {
          "base_uri": "https://localhost:8080/"
        },
        "id": "6m6MUV1bDadB",
        "outputId": "fe6fe50f-7dd6-4226-c85e-e75b5b80a8f9"
      },
      "outputs": [
        {
          "name": "stderr",
          "output_type": "stream",
          "text": [
            "convert squad examples to features: 100%|██████████| 2886/2886 [00:12<00:00, 231.82it/s]\n",
            "add example index and unique id: 100%|██████████| 2886/2886 [00:00<00:00, 444897.14it/s]\n"
          ]
        }
      ],
      "source": [
        "dev_features, dev_dataset = squad_convert_examples_to_features(dev_examples, \n",
        "                                                       tokenizer, \n",
        "                                                       max_seq_length = 256, \n",
        "                                                       doc_stride = 81,\n",
        "                                                       max_query_length = 81,\n",
        "                                                       is_training = False,\n",
        "                                                       return_dataset = 'pt',\n",
        "                                                       threads = 10\n",
        "                                                       )"
      ]
    },
    {
      "cell_type": "code",
      "execution_count": null,
      "metadata": {
        "id": "6sdIPkuLDcm_"
      },
      "outputs": [],
      "source": [
        "import torch\n",
        "\n",
        "def to_list(tensor):\n",
        "    return tensor.detach().cpu().tolist()\n"
      ]
    },
    {
      "cell_type": "code",
      "execution_count": 17,
      "metadata": {
        "id": "ysLsSwukDkz2"
      },
      "outputs": [],
      "source": [
        "\n",
        "import os\n",
        "def evaluate(model, tokenizer, dev_dataset, dev_examples, dev_features):\n",
        "    eval_sampler = SequentialSampler(dev_dataset)\n",
        "    eval_dataloader = DataLoader(dev_dataset, sampler=eval_sampler, batch_size=40)\n",
        "    all_results = []\n",
        "#     start_time = timeit.default_timer()\n",
        "    for batch in tqdm(eval_dataloader, desc=\"Evaluating\"):\n",
        "        model.eval()\n",
        "        batch = tuple(t.to(device) for t in batch)\n",
        "        with torch.no_grad():\n",
        "            inputs = {\n",
        "                \"input_ids\": batch[0],\n",
        "                \"attention_mask\": batch[1],\n",
        "#                \"token_type_ids\": batch[2],\n",
        "            }\n",
        "            example_indices = batch[3]\n",
        "            outputs = model(**inputs)\n",
        "            output_model = torch.cat((outputs.start_logits, outputs.end_logits), dim=1) # concatenate start_logits and end_logits along batch dimension\n",
        "        for i, example_index in enumerate(example_indices):\n",
        "            eval_feature = dev_features[example_index.item()]\n",
        "            unique_id = int(eval_feature.unique_id)\n",
        "            output = outputs.start_logits[i], outputs.end_logits[i]\n",
        "            if isinstance(output, tuple):  # regular logits\n",
        "                start_logits, end_logits = output\n",
        "            else:  # top k logits\n",
        "                start_logits, end_logits, _, _ = output.chunk(4)\n",
        "            result = SquadResult(unique_id, start_logits.detach().cpu().numpy(), end_logits.detach().cpu().numpy())\n",
        "            all_results.append(result)\n",
        "            # all_results.append(RawResult(unique_id=feature.unique_id, start_logits=start_logits.astype(np.float64), end_logits=end_logits.astype(np.float64)))\n",
        "\n",
        "    \n",
        "    # output_prediction_file = os.path.join(\"./\", \"predictions_{}.json\".format(\"\"))\n",
        "    # output_nbest_file = os.path.join(\"./\", \"nbest_predictions_{}.json\".format(\"\"))\n",
        "    # output_null_log_odds_file = os.path.join(\"./\", \"null_odds_{}.json\".format(\"\"))\n",
        "    predictions = compute_predictions_logits(\n",
        "            dev_examples,\n",
        "            dev_features,\n",
        "            all_results,\n",
        "            20,\n",
        "            128,\n",
        "            False,\n",
        "          None,\n",
        "          None,\n",
        "          None,\n",
        "            True,\n",
        "            False,\n",
        "            0.0,\n",
        "            tokenizer,\n",
        "        )\n",
        "    results = squad_evaluate(dev_examples, predictions)\n",
        "    return results"
      ]
    },
    {
      "cell_type": "code",
      "execution_count": null,
      "metadata": {
        "id": "MarLZmW1jd62"
      },
      "outputs": [],
      "source": [
        "model_2 = None\n",
        "tokenizer_2 = None"
      ]
    },
    {
      "cell_type": "code",
      "execution_count": 6,
      "metadata": {
        "id": "UeOfGZ-qDnW0"
      },
      "outputs": [],
      "source": [
        "from torch.utils.tensorboard import SummaryWriter\n",
        "from torch.utils.data import DataLoader, RandomSampler, SequentialSampler\n",
        "from transformers import AdamW, get_linear_schedule_with_warmup\n",
        "from tqdm import trange, tqdm\n",
        "device = torch.device('cuda')"
      ]
    },
    {
      "cell_type": "code",
      "execution_count": null,
      "metadata": {
        "colab": {
          "base_uri": "https://localhost:8080/"
        },
        "id": "q5nOVcMxDqEH",
        "outputId": "06508006-e5e1-44c6-9915-3060acac94d4"
      },
      "outputs": [
        {
          "name": "stderr",
          "output_type": "stream",
          "text": [
            "/usr/local/lib/python3.10/dist-packages/transformers/optimization.py:391: FutureWarning: This implementation of AdamW is deprecated and will be removed in a future version. Use the PyTorch implementation torch.optim.AdamW instead, or set `no_deprecation_warning=True` to disable this warning\n",
            "  warnings.warn(\n",
            "Iteration: 100%|██████████| 1645/1645 [1:05:44<00:00,  2.40s/it]\n",
            "Evaluating: 100%|██████████| 89/89 [02:44<00:00,  1.84s/it]\n"
          ]
        },
        {
          "name": "stdout",
          "output_type": "stream",
          "text": [
            "exact: 34.82328482328482\n",
            "51.47512247929256\n"
          ]
        },
        {
          "name": "stderr",
          "output_type": "stream",
          "text": [
            "Iteration: 100%|██████████| 1645/1645 [1:06:15<00:00,  2.42s/it]\n",
            "Evaluating: 100%|██████████| 89/89 [02:44<00:00,  1.85s/it]\n"
          ]
        },
        {
          "name": "stdout",
          "output_type": "stream",
          "text": [
            "exact: 37.35273735273735\n",
            "53.2766638037215\n"
          ]
        },
        {
          "name": "stderr",
          "output_type": "stream",
          "text": [
            "Iteration: 100%|██████████| 1645/1645 [1:06:16<00:00,  2.42s/it]\n",
            "Evaluating: 100%|██████████| 89/89 [02:44<00:00,  1.85s/it]\n",
            "Epoch:  75%|███████▌  | 3/4 [3:27:31<1:09:13, 4153.41s/it]"
          ]
        },
        {
          "name": "stdout",
          "output_type": "stream",
          "text": [
            "exact: 35.585585585585584\n",
            "52.65181294017144\n"
          ]
        },
        {
          "name": "stderr",
          "output_type": "stream",
          "text": [
            "Iteration:   3%|▎         | 49/1645 [01:58<1:04:26,  2.42s/it]"
          ]
        }
      ],
      "source": [
        "num_epochs = 4\n",
        "tb_writer = SummaryWriter()\n",
        "train_sampler = RandomSampler(train_dataset)\n",
        "train_dataloader = DataLoader(train_dataset, sampler=train_sampler, batch_size=16)\n",
        "t_total = len(train_dataloader) // 1 * num_epochs\n",
        "\n",
        "output_dir = os.path.join('/content/drive/MyDrive/pho-bert/', 'final_model')\n",
        "no_decay = [\"bias\", \"LayerNorm.weight\"]\n",
        "\n",
        "optimizer_grouped_parameters = [\n",
        "    {\n",
        "        \"params\": [p for n, p in model.named_parameters() if not any(nd in n for nd in no_decay)],\n",
        "        \"weight_decay\": 0,\n",
        "    },\n",
        "    {\"params\": [p for n, p in model.named_parameters() if any(nd in n for nd in no_decay)], \"weight_decay\": 0.0},\n",
        "]\n",
        "optimizer = AdamW(optimizer_grouped_parameters, lr=3e-5, eps = 1e-8)\n",
        "scheduler = get_linear_schedule_with_warmup(\n",
        "    optimizer, num_warmup_steps=814, num_training_steps=t_total\n",
        ")\n",
        "\n",
        "device = torch.device('cuda')\n",
        "\n",
        "model.to(device)\n",
        "\n",
        "global_step = 1\n",
        "epochs_trained = 0\n",
        "steps_trained_in_current_epoch = 0\n",
        "tr_loss, logging_loss = 0.0, 0.0\n",
        "\n",
        "model.zero_grad()\n",
        "train_iterator = trange(\n",
        "    epochs_trained, int(num_epochs), desc=\"Epoch\", disable=-1 not in [-1, 0]\n",
        ")\n",
        "\n",
        "from functools import partial\n",
        "tqdm = partial(tqdm, position=0, leave=True)\n",
        "max_f1 = 0\n",
        "patient = 0\n",
        "for _ in train_iterator:\n",
        "    epoch_iterator = tqdm(train_dataloader, desc=\"Iteration\", disable=False)\n",
        "    for step, batch in enumerate(epoch_iterator):\n",
        "        model.train()\n",
        "        batch = tuple(t.to(device) for t in batch)\n",
        "        \n",
        "        inputs = {\n",
        "            \"input_ids\": batch[0],\n",
        "            \"attention_mask\": batch[1],\n",
        "            \"start_positions\": batch[3],\n",
        "            \"end_positions\": batch[4],\n",
        "        }\n",
        "        \n",
        "        outputs = model(**inputs)\n",
        "        loss = outputs[0]\n",
        "        loss.backward()\n",
        "        tr_loss += loss.item()\n",
        "        torch.nn.utils.clip_grad_norm_(model.parameters(), 1)\n",
        "        optimizer.step()\n",
        "        scheduler.step()\n",
        "        model.zero_grad()\n",
        "        global_step += 1\n",
        "\n",
        "        if global_step % 5000 == 0:\n",
        "            print(\" global_step = %s, average loss = %s\", global_step, tr_loss/global_step)\n",
        "    model.eval()\n",
        "    model_2 = model\n",
        "    tokenizer_2 = tokenizer\n",
        "    results = evaluate(model, tokenizer, dev_dataset, dev_examples, dev_features)\n",
        "    print(\"exact: \" + str(results['exact']))\n",
        "    print(results['f1'])\n",
        "    if results['f1'] >= max_f1:\n",
        "        model_to_save = model.module if hasattr(model, \"module\") else model\n",
        "        model_to_save.save_pretrained(output_dir)\n",
        "        max_f1 = results['f1']\n",
        "        patient = 0\n",
        "    else:\n",
        "        patient = patient+1\n",
        "    if patient == 3:\n",
        "        break\n",
        "\n",
        "del model"
      ]
    },
    {
      "cell_type": "code",
      "execution_count": 14,
      "metadata": {
        "colab": {
          "base_uri": "https://localhost:8080/"
        },
        "id": "rOIMgKmtK-28",
        "outputId": "5e455837-56c1-4064-8f4e-45790b0ea0c6"
      },
      "outputs": [
        {
          "name": "stderr",
          "output_type": "stream",
          "text": [
            "Special tokens have been added in the vocabulary, make sure the associated word embeddings are fine-tuned or trained.\n"
          ]
        }
      ],
      "source": [
        "model_2 = RobertaForQuestionAnswering(phobert.config).from_pretrained(\"/content/drive/MyDrive/pho-bert/final_model\").to(device)\n",
        "tokenizer_2 = AutoTokenizer.from_pretrained(\"vinai/phobert-large\")"
      ]
    },
    {
      "cell_type": "code",
      "execution_count": 15,
      "metadata": {
        "colab": {
          "base_uri": "https://localhost:8080/"
        },
        "id": "Kerz_vw1LDwC",
        "outputId": "ea0abbd3-4e9e-49e1-af7c-182a6b559a3a"
      },
      "outputs": [
        {
          "name": "stderr",
          "output_type": "stream",
          "text": [
            "100%|██████████| 15/15 [00:33<00:00,  2.24s/it]\n",
            "convert squad examples to features: 100%|██████████| 4384/4384 [00:20<00:00, 214.57it/s]\n",
            "add example index and unique id: 100%|██████████| 4384/4384 [00:00<00:00, 570412.85it/s]\n"
          ]
        }
      ],
      "source": [
        "test_examples = processor.get_dev_examples('', '/content/drive/MyDrive/pho-bert/test_vi.json')\n",
        "test_features, test_dataset = squad_convert_examples_to_features(test_examples, \n",
        "                                                       tokenizer_2, \n",
        "                                                       max_seq_length = 256, \n",
        "                                                       doc_stride = 81,\n",
        "                                                       max_query_length = 81,\n",
        "                                                       is_training = False,\n",
        "                                                       return_dataset = 'pt',\n",
        "                                                       threads = 10\n",
        "                                                       )"
      ]
    },
    {
      "cell_type": "code",
      "execution_count": 18,
      "metadata": {
        "colab": {
          "base_uri": "https://localhost:8080/"
        },
        "id": "eOMntVbYLG6E",
        "outputId": "44a8f1cb-0ce3-4521-c6f1-9d0693b65305"
      },
      "outputs": [
        {
          "name": "stderr",
          "output_type": "stream",
          "text": [
            "Evaluating: 100%|██████████| 130/130 [03:45<00:00,  1.73s/it]\n"
          ]
        },
        {
          "name": "stdout",
          "output_type": "stream",
          "text": [
            "exact 34.215328467153284\n",
            "f1 50.46814053845613\n",
            "total 4384\n",
            "HasAns_exact 51.08991825613079\n",
            "HasAns_f1 75.35842238439771\n",
            "HasAns_total 2936\n",
            "NoAns_exact 0.0\n",
            "NoAns_f1 0.0\n",
            "NoAns_total 1448\n",
            "best_exact 36.792883211678834\n",
            "best_exact_thresh 0.0\n",
            "best_f1 50.51376097641239\n",
            "best_f1_thresh 0.0\n"
          ]
        }
      ],
      "source": [
        "results = evaluate(model_2, tokenizer_2, test_dataset, test_examples, test_features)\n",
        "for key, value in results.items():\n",
        "    print(key, value)"
      ]
    },
    {
      "cell_type": "code",
      "execution_count": null,
      "metadata": {},
      "outputs": [],
      "source": [
        "# Define context and question\n",
        "context = ''' Chủ tịch Hồ Chí Minh (tên lúc nhỏ là Nguyễn Sinh Cung, tên khi đi học là Nguyễn Tất Thành, trong nhiều năm hoạt động cách mạng trước đây lấy tên là Nguyễn Ái Quốc), sinh ngày 19-5-1890 ở làng Kim Liên, xã Nam Liên (nay là xã Kim Liên), huyện Nam Đàn, tỉnh Nghệ An và mất ngày 2-9-1969 tại Hà Nội.\n",
        "Người sinh ra trong một gia đình: Bố là một nhà nho yêu nước, nguồn gốc nông dân; mẹ là nông dân; chị và anh đều tham gia chống Pháp và bị tù đày.\n",
        "Trung ương Đảng và Chủ tịch Hồ Chí Minh đề ra hai nhiệm vụ chiến lược của cách mạng Việt Nam là tiến hành cách mạng xã hội chủ nghĩa và xây dựng chủ nghĩa xã hội ở miền Bắc, đồng thời đấu tranh giải phóng miền Nam, thực hiện thống nhất nước nhà, hoàn thành cách mạng dân tộc dân chủ nhân dân trong cả nước'''\n",
        "question = \"Hồ Chí Minh được bầu làm gì?\"\n",
        "\n",
        "# Tokenize inputs\n",
        "inputs = tokenizer_2.encode_plus(question, context, add_special_tokens=True, return_tensors=\"pt\")\n",
        "\n",
        "# Move inputs tensor to device\n",
        "inputs = {key: value.to(torch.device('cuda')) for key, value in inputs.items()}\n",
        "\n",
        "# get start and end logits for answer\n",
        "start_logits, end_logits = model_2(**inputs, return_dict=False)\n",
        "\n",
        "# find the answer\n",
        "start_idx = torch.argmax(start_logits) + 1\n",
        "end_idx = torch.argmax(end_logits) + 2\n",
        "answer = tokenizer_2.convert_tokens_to_string(tokenizer_2.convert_ids_to_tokens(inputs[\"input_ids\"][0][start_idx:end_idx]))\n",
        "\n",
        "print(\"Answer:\", answer)"
      ]
    }
  ],
  "metadata": {
    "accelerator": "GPU",
    "colab": {
      "provenance": []
    },
    "gpuClass": "standard",
    "kernelspec": {
      "display_name": "Python 3",
      "name": "python3"
    },
    "language_info": {
      "name": "python",
      "version": "3.8.0"
    },
    "widgets": {
      "application/vnd.jupyter.widget-state+json": {
        "1291e668921b4247b4d8ec18542f9977": {
          "model_module": "@jupyter-widgets/controls",
          "model_module_version": "1.5.0",
          "model_name": "HTMLModel",
          "state": {
            "_dom_classes": [],
            "_model_module": "@jupyter-widgets/controls",
            "_model_module_version": "1.5.0",
            "_model_name": "HTMLModel",
            "_view_count": null,
            "_view_module": "@jupyter-widgets/controls",
            "_view_module_version": "1.5.0",
            "_view_name": "HTMLView",
            "description": "",
            "description_tooltip": null,
            "layout": "IPY_MODEL_ee60c9565f544b168a1757d5e9fca961",
            "placeholder": "​",
            "style": "IPY_MODEL_c2f8c221aa6e4b17b5e17600849a7a49",
            "value": "Downloading pytorch_model.bin: 100%"
          }
        },
        "137bc8d2dd654176bf6a199db18209f4": {
          "model_module": "@jupyter-widgets/controls",
          "model_module_version": "1.5.0",
          "model_name": "HTMLModel",
          "state": {
            "_dom_classes": [],
            "_model_module": "@jupyter-widgets/controls",
            "_model_module_version": "1.5.0",
            "_model_name": "HTMLModel",
            "_view_count": null,
            "_view_module": "@jupyter-widgets/controls",
            "_view_module_version": "1.5.0",
            "_view_name": "HTMLView",
            "description": "",
            "description_tooltip": null,
            "layout": "IPY_MODEL_8d24b0cf150242fcb91a712e5c2c820a",
            "placeholder": "​",
            "style": "IPY_MODEL_d0a9b95a9b394bf5b7d2ce6bce2fd83f",
            "value": "Downloading (…)solve/main/bpe.codes: 100%"
          }
        },
        "3b91a074d6d144b88cf4fb46f36bd1b5": {
          "model_module": "@jupyter-widgets/base",
          "model_module_version": "1.2.0",
          "model_name": "LayoutModel",
          "state": {
            "_model_module": "@jupyter-widgets/base",
            "_model_module_version": "1.2.0",
            "_model_name": "LayoutModel",
            "_view_count": null,
            "_view_module": "@jupyter-widgets/base",
            "_view_module_version": "1.2.0",
            "_view_name": "LayoutView",
            "align_content": null,
            "align_items": null,
            "align_self": null,
            "border": null,
            "bottom": null,
            "display": null,
            "flex": null,
            "flex_flow": null,
            "grid_area": null,
            "grid_auto_columns": null,
            "grid_auto_flow": null,
            "grid_auto_rows": null,
            "grid_column": null,
            "grid_gap": null,
            "grid_row": null,
            "grid_template_areas": null,
            "grid_template_columns": null,
            "grid_template_rows": null,
            "height": null,
            "justify_content": null,
            "justify_items": null,
            "left": null,
            "margin": null,
            "max_height": null,
            "max_width": null,
            "min_height": null,
            "min_width": null,
            "object_fit": null,
            "object_position": null,
            "order": null,
            "overflow": null,
            "overflow_x": null,
            "overflow_y": null,
            "padding": null,
            "right": null,
            "top": null,
            "visibility": null,
            "width": null
          }
        },
        "3c2e7d1303b842f2b9500567f8b4c6fc": {
          "model_module": "@jupyter-widgets/controls",
          "model_module_version": "1.5.0",
          "model_name": "ProgressStyleModel",
          "state": {
            "_model_module": "@jupyter-widgets/controls",
            "_model_module_version": "1.5.0",
            "_model_name": "ProgressStyleModel",
            "_view_count": null,
            "_view_module": "@jupyter-widgets/base",
            "_view_module_version": "1.2.0",
            "_view_name": "StyleView",
            "bar_color": null,
            "description_width": ""
          }
        },
        "3d495a2e294f4b5b865a057df78065df": {
          "model_module": "@jupyter-widgets/controls",
          "model_module_version": "1.5.0",
          "model_name": "FloatProgressModel",
          "state": {
            "_dom_classes": [],
            "_model_module": "@jupyter-widgets/controls",
            "_model_module_version": "1.5.0",
            "_model_name": "FloatProgressModel",
            "_view_count": null,
            "_view_module": "@jupyter-widgets/controls",
            "_view_module_version": "1.5.0",
            "_view_name": "ProgressView",
            "bar_style": "success",
            "description": "",
            "description_tooltip": null,
            "layout": "IPY_MODEL_cb0c9b7ed9414269ba0d191cfd20d91a",
            "max": 1481467253,
            "min": 0,
            "orientation": "horizontal",
            "style": "IPY_MODEL_ce2aa5a82c534703a5d56266471ad529",
            "value": 1481467253
          }
        },
        "40743a72dcd34644807fb8902457e20e": {
          "model_module": "@jupyter-widgets/controls",
          "model_module_version": "1.5.0",
          "model_name": "DescriptionStyleModel",
          "state": {
            "_model_module": "@jupyter-widgets/controls",
            "_model_module_version": "1.5.0",
            "_model_name": "DescriptionStyleModel",
            "_view_count": null,
            "_view_module": "@jupyter-widgets/base",
            "_view_module_version": "1.2.0",
            "_view_name": "StyleView",
            "description_width": ""
          }
        },
        "4870675ae59a4c508c7c2cc47e4dc280": {
          "model_module": "@jupyter-widgets/controls",
          "model_module_version": "1.5.0",
          "model_name": "HBoxModel",
          "state": {
            "_dom_classes": [],
            "_model_module": "@jupyter-widgets/controls",
            "_model_module_version": "1.5.0",
            "_model_name": "HBoxModel",
            "_view_count": null,
            "_view_module": "@jupyter-widgets/controls",
            "_view_module_version": "1.5.0",
            "_view_name": "HBoxView",
            "box_style": "",
            "children": [
              "IPY_MODEL_1291e668921b4247b4d8ec18542f9977",
              "IPY_MODEL_3d495a2e294f4b5b865a057df78065df",
              "IPY_MODEL_c7c08e103307479db5166f65f9c24f88"
            ],
            "layout": "IPY_MODEL_b90471c43afa44a9bbe7dd82757bb4ae"
          }
        },
        "4ddfa803a8ef454680d679b2ee67e69e": {
          "model_module": "@jupyter-widgets/controls",
          "model_module_version": "1.5.0",
          "model_name": "DescriptionStyleModel",
          "state": {
            "_model_module": "@jupyter-widgets/controls",
            "_model_module_version": "1.5.0",
            "_model_name": "DescriptionStyleModel",
            "_view_count": null,
            "_view_module": "@jupyter-widgets/base",
            "_view_module_version": "1.2.0",
            "_view_name": "StyleView",
            "description_width": ""
          }
        },
        "5497bae015754137bf8d52f65f43b9af": {
          "model_module": "@jupyter-widgets/controls",
          "model_module_version": "1.5.0",
          "model_name": "FloatProgressModel",
          "state": {
            "_dom_classes": [],
            "_model_module": "@jupyter-widgets/controls",
            "_model_module_version": "1.5.0",
            "_model_name": "FloatProgressModel",
            "_view_count": null,
            "_view_module": "@jupyter-widgets/controls",
            "_view_module_version": "1.5.0",
            "_view_name": "ProgressView",
            "bar_style": "success",
            "description": "",
            "description_tooltip": null,
            "layout": "IPY_MODEL_3b91a074d6d144b88cf4fb46f36bd1b5",
            "max": 1135173,
            "min": 0,
            "orientation": "horizontal",
            "style": "IPY_MODEL_db846859e34c45248cc14046e0bdc99d",
            "value": 1135173
          }
        },
        "586fba0ffc9f42a681bb855561072349": {
          "model_module": "@jupyter-widgets/base",
          "model_module_version": "1.2.0",
          "model_name": "LayoutModel",
          "state": {
            "_model_module": "@jupyter-widgets/base",
            "_model_module_version": "1.2.0",
            "_model_name": "LayoutModel",
            "_view_count": null,
            "_view_module": "@jupyter-widgets/base",
            "_view_module_version": "1.2.0",
            "_view_name": "LayoutView",
            "align_content": null,
            "align_items": null,
            "align_self": null,
            "border": null,
            "bottom": null,
            "display": null,
            "flex": null,
            "flex_flow": null,
            "grid_area": null,
            "grid_auto_columns": null,
            "grid_auto_flow": null,
            "grid_auto_rows": null,
            "grid_column": null,
            "grid_gap": null,
            "grid_row": null,
            "grid_template_areas": null,
            "grid_template_columns": null,
            "grid_template_rows": null,
            "height": null,
            "justify_content": null,
            "justify_items": null,
            "left": null,
            "margin": null,
            "max_height": null,
            "max_width": null,
            "min_height": null,
            "min_width": null,
            "object_fit": null,
            "object_position": null,
            "order": null,
            "overflow": null,
            "overflow_x": null,
            "overflow_y": null,
            "padding": null,
            "right": null,
            "top": null,
            "visibility": null,
            "width": null
          }
        },
        "6bf44470d5f949c8996ab4e3e4c0965a": {
          "model_module": "@jupyter-widgets/controls",
          "model_module_version": "1.5.0",
          "model_name": "DescriptionStyleModel",
          "state": {
            "_model_module": "@jupyter-widgets/controls",
            "_model_module_version": "1.5.0",
            "_model_name": "DescriptionStyleModel",
            "_view_count": null,
            "_view_module": "@jupyter-widgets/base",
            "_view_module_version": "1.2.0",
            "_view_name": "StyleView",
            "description_width": ""
          }
        },
        "70ddafdab2cb4417b939aaf802f2c81e": {
          "model_module": "@jupyter-widgets/base",
          "model_module_version": "1.2.0",
          "model_name": "LayoutModel",
          "state": {
            "_model_module": "@jupyter-widgets/base",
            "_model_module_version": "1.2.0",
            "_model_name": "LayoutModel",
            "_view_count": null,
            "_view_module": "@jupyter-widgets/base",
            "_view_module_version": "1.2.0",
            "_view_name": "LayoutView",
            "align_content": null,
            "align_items": null,
            "align_self": null,
            "border": null,
            "bottom": null,
            "display": null,
            "flex": null,
            "flex_flow": null,
            "grid_area": null,
            "grid_auto_columns": null,
            "grid_auto_flow": null,
            "grid_auto_rows": null,
            "grid_column": null,
            "grid_gap": null,
            "grid_row": null,
            "grid_template_areas": null,
            "grid_template_columns": null,
            "grid_template_rows": null,
            "height": null,
            "justify_content": null,
            "justify_items": null,
            "left": null,
            "margin": null,
            "max_height": null,
            "max_width": null,
            "min_height": null,
            "min_width": null,
            "object_fit": null,
            "object_position": null,
            "order": null,
            "overflow": null,
            "overflow_x": null,
            "overflow_y": null,
            "padding": null,
            "right": null,
            "top": null,
            "visibility": null,
            "width": null
          }
        },
        "77cce7ea0d6e4bf184f484658d9b084d": {
          "model_module": "@jupyter-widgets/controls",
          "model_module_version": "1.5.0",
          "model_name": "DescriptionStyleModel",
          "state": {
            "_model_module": "@jupyter-widgets/controls",
            "_model_module_version": "1.5.0",
            "_model_name": "DescriptionStyleModel",
            "_view_count": null,
            "_view_module": "@jupyter-widgets/base",
            "_view_module_version": "1.2.0",
            "_view_name": "StyleView",
            "description_width": ""
          }
        },
        "7964e7efcc4447ef8ad5e45bb9f7c541": {
          "model_module": "@jupyter-widgets/base",
          "model_module_version": "1.2.0",
          "model_name": "LayoutModel",
          "state": {
            "_model_module": "@jupyter-widgets/base",
            "_model_module_version": "1.2.0",
            "_model_name": "LayoutModel",
            "_view_count": null,
            "_view_module": "@jupyter-widgets/base",
            "_view_module_version": "1.2.0",
            "_view_name": "LayoutView",
            "align_content": null,
            "align_items": null,
            "align_self": null,
            "border": null,
            "bottom": null,
            "display": null,
            "flex": null,
            "flex_flow": null,
            "grid_area": null,
            "grid_auto_columns": null,
            "grid_auto_flow": null,
            "grid_auto_rows": null,
            "grid_column": null,
            "grid_gap": null,
            "grid_row": null,
            "grid_template_areas": null,
            "grid_template_columns": null,
            "grid_template_rows": null,
            "height": null,
            "justify_content": null,
            "justify_items": null,
            "left": null,
            "margin": null,
            "max_height": null,
            "max_width": null,
            "min_height": null,
            "min_width": null,
            "object_fit": null,
            "object_position": null,
            "order": null,
            "overflow": null,
            "overflow_x": null,
            "overflow_y": null,
            "padding": null,
            "right": null,
            "top": null,
            "visibility": null,
            "width": null
          }
        },
        "7b9bd5154d27450a8fadb1931ef0880e": {
          "model_module": "@jupyter-widgets/controls",
          "model_module_version": "1.5.0",
          "model_name": "HTMLModel",
          "state": {
            "_dom_classes": [],
            "_model_module": "@jupyter-widgets/controls",
            "_model_module_version": "1.5.0",
            "_model_name": "HTMLModel",
            "_view_count": null,
            "_view_module": "@jupyter-widgets/controls",
            "_view_module_version": "1.5.0",
            "_view_name": "HTMLView",
            "description": "",
            "description_tooltip": null,
            "layout": "IPY_MODEL_586fba0ffc9f42a681bb855561072349",
            "placeholder": "​",
            "style": "IPY_MODEL_40743a72dcd34644807fb8902457e20e",
            "value": "Downloading (…)solve/main/vocab.txt: 100%"
          }
        },
        "8622c77477af413eb852dbc385999b35": {
          "model_module": "@jupyter-widgets/base",
          "model_module_version": "1.2.0",
          "model_name": "LayoutModel",
          "state": {
            "_model_module": "@jupyter-widgets/base",
            "_model_module_version": "1.2.0",
            "_model_name": "LayoutModel",
            "_view_count": null,
            "_view_module": "@jupyter-widgets/base",
            "_view_module_version": "1.2.0",
            "_view_name": "LayoutView",
            "align_content": null,
            "align_items": null,
            "align_self": null,
            "border": null,
            "bottom": null,
            "display": null,
            "flex": null,
            "flex_flow": null,
            "grid_area": null,
            "grid_auto_columns": null,
            "grid_auto_flow": null,
            "grid_auto_rows": null,
            "grid_column": null,
            "grid_gap": null,
            "grid_row": null,
            "grid_template_areas": null,
            "grid_template_columns": null,
            "grid_template_rows": null,
            "height": null,
            "justify_content": null,
            "justify_items": null,
            "left": null,
            "margin": null,
            "max_height": null,
            "max_width": null,
            "min_height": null,
            "min_width": null,
            "object_fit": null,
            "object_position": null,
            "order": null,
            "overflow": null,
            "overflow_x": null,
            "overflow_y": null,
            "padding": null,
            "right": null,
            "top": null,
            "visibility": null,
            "width": null
          }
        },
        "887319e205c341df931e784c59abc7b7": {
          "model_module": "@jupyter-widgets/base",
          "model_module_version": "1.2.0",
          "model_name": "LayoutModel",
          "state": {
            "_model_module": "@jupyter-widgets/base",
            "_model_module_version": "1.2.0",
            "_model_name": "LayoutModel",
            "_view_count": null,
            "_view_module": "@jupyter-widgets/base",
            "_view_module_version": "1.2.0",
            "_view_name": "LayoutView",
            "align_content": null,
            "align_items": null,
            "align_self": null,
            "border": null,
            "bottom": null,
            "display": null,
            "flex": null,
            "flex_flow": null,
            "grid_area": null,
            "grid_auto_columns": null,
            "grid_auto_flow": null,
            "grid_auto_rows": null,
            "grid_column": null,
            "grid_gap": null,
            "grid_row": null,
            "grid_template_areas": null,
            "grid_template_columns": null,
            "grid_template_rows": null,
            "height": null,
            "justify_content": null,
            "justify_items": null,
            "left": null,
            "margin": null,
            "max_height": null,
            "max_width": null,
            "min_height": null,
            "min_width": null,
            "object_fit": null,
            "object_position": null,
            "order": null,
            "overflow": null,
            "overflow_x": null,
            "overflow_y": null,
            "padding": null,
            "right": null,
            "top": null,
            "visibility": null,
            "width": null
          }
        },
        "8c2f6c11c83949dda866aaacb0045640": {
          "model_module": "@jupyter-widgets/base",
          "model_module_version": "1.2.0",
          "model_name": "LayoutModel",
          "state": {
            "_model_module": "@jupyter-widgets/base",
            "_model_module_version": "1.2.0",
            "_model_name": "LayoutModel",
            "_view_count": null,
            "_view_module": "@jupyter-widgets/base",
            "_view_module_version": "1.2.0",
            "_view_name": "LayoutView",
            "align_content": null,
            "align_items": null,
            "align_self": null,
            "border": null,
            "bottom": null,
            "display": null,
            "flex": null,
            "flex_flow": null,
            "grid_area": null,
            "grid_auto_columns": null,
            "grid_auto_flow": null,
            "grid_auto_rows": null,
            "grid_column": null,
            "grid_gap": null,
            "grid_row": null,
            "grid_template_areas": null,
            "grid_template_columns": null,
            "grid_template_rows": null,
            "height": null,
            "justify_content": null,
            "justify_items": null,
            "left": null,
            "margin": null,
            "max_height": null,
            "max_width": null,
            "min_height": null,
            "min_width": null,
            "object_fit": null,
            "object_position": null,
            "order": null,
            "overflow": null,
            "overflow_x": null,
            "overflow_y": null,
            "padding": null,
            "right": null,
            "top": null,
            "visibility": null,
            "width": null
          }
        },
        "8d24b0cf150242fcb91a712e5c2c820a": {
          "model_module": "@jupyter-widgets/base",
          "model_module_version": "1.2.0",
          "model_name": "LayoutModel",
          "state": {
            "_model_module": "@jupyter-widgets/base",
            "_model_module_version": "1.2.0",
            "_model_name": "LayoutModel",
            "_view_count": null,
            "_view_module": "@jupyter-widgets/base",
            "_view_module_version": "1.2.0",
            "_view_name": "LayoutView",
            "align_content": null,
            "align_items": null,
            "align_self": null,
            "border": null,
            "bottom": null,
            "display": null,
            "flex": null,
            "flex_flow": null,
            "grid_area": null,
            "grid_auto_columns": null,
            "grid_auto_flow": null,
            "grid_auto_rows": null,
            "grid_column": null,
            "grid_gap": null,
            "grid_row": null,
            "grid_template_areas": null,
            "grid_template_columns": null,
            "grid_template_rows": null,
            "height": null,
            "justify_content": null,
            "justify_items": null,
            "left": null,
            "margin": null,
            "max_height": null,
            "max_width": null,
            "min_height": null,
            "min_width": null,
            "object_fit": null,
            "object_position": null,
            "order": null,
            "overflow": null,
            "overflow_x": null,
            "overflow_y": null,
            "padding": null,
            "right": null,
            "top": null,
            "visibility": null,
            "width": null
          }
        },
        "962080dc41c242c684d857e9baf174e7": {
          "model_module": "@jupyter-widgets/controls",
          "model_module_version": "1.5.0",
          "model_name": "ProgressStyleModel",
          "state": {
            "_model_module": "@jupyter-widgets/controls",
            "_model_module_version": "1.5.0",
            "_model_name": "ProgressStyleModel",
            "_view_count": null,
            "_view_module": "@jupyter-widgets/base",
            "_view_module_version": "1.2.0",
            "_view_name": "StyleView",
            "bar_color": null,
            "description_width": ""
          }
        },
        "99bedf508fc34bd7a964616574ec0ce4": {
          "model_module": "@jupyter-widgets/base",
          "model_module_version": "1.2.0",
          "model_name": "LayoutModel",
          "state": {
            "_model_module": "@jupyter-widgets/base",
            "_model_module_version": "1.2.0",
            "_model_name": "LayoutModel",
            "_view_count": null,
            "_view_module": "@jupyter-widgets/base",
            "_view_module_version": "1.2.0",
            "_view_name": "LayoutView",
            "align_content": null,
            "align_items": null,
            "align_self": null,
            "border": null,
            "bottom": null,
            "display": null,
            "flex": null,
            "flex_flow": null,
            "grid_area": null,
            "grid_auto_columns": null,
            "grid_auto_flow": null,
            "grid_auto_rows": null,
            "grid_column": null,
            "grid_gap": null,
            "grid_row": null,
            "grid_template_areas": null,
            "grid_template_columns": null,
            "grid_template_rows": null,
            "height": null,
            "justify_content": null,
            "justify_items": null,
            "left": null,
            "margin": null,
            "max_height": null,
            "max_width": null,
            "min_height": null,
            "min_width": null,
            "object_fit": null,
            "object_position": null,
            "order": null,
            "overflow": null,
            "overflow_x": null,
            "overflow_y": null,
            "padding": null,
            "right": null,
            "top": null,
            "visibility": null,
            "width": null
          }
        },
        "9e082b106ba44f95afb34359361d7f19": {
          "model_module": "@jupyter-widgets/controls",
          "model_module_version": "1.5.0",
          "model_name": "HBoxModel",
          "state": {
            "_dom_classes": [],
            "_model_module": "@jupyter-widgets/controls",
            "_model_module_version": "1.5.0",
            "_model_name": "HBoxModel",
            "_view_count": null,
            "_view_module": "@jupyter-widgets/controls",
            "_view_module_version": "1.5.0",
            "_view_name": "HBoxView",
            "box_style": "",
            "children": [
              "IPY_MODEL_7b9bd5154d27450a8fadb1931ef0880e",
              "IPY_MODEL_ea40d751bd9841d1a5e666f62241cdcf",
              "IPY_MODEL_d6d1e8e450924951bd8877fb9f6830cf"
            ],
            "layout": "IPY_MODEL_af46b930d6d74809bf8934935b18c7f9"
          }
        },
        "9f3979f787ad4036b011023016c806e5": {
          "model_module": "@jupyter-widgets/controls",
          "model_module_version": "1.5.0",
          "model_name": "DescriptionStyleModel",
          "state": {
            "_model_module": "@jupyter-widgets/controls",
            "_model_module_version": "1.5.0",
            "_model_name": "DescriptionStyleModel",
            "_view_count": null,
            "_view_module": "@jupyter-widgets/base",
            "_view_module_version": "1.2.0",
            "_view_name": "StyleView",
            "description_width": ""
          }
        },
        "aad07e5884474a689cf9fc6554e2d3c9": {
          "model_module": "@jupyter-widgets/controls",
          "model_module_version": "1.5.0",
          "model_name": "HTMLModel",
          "state": {
            "_dom_classes": [],
            "_model_module": "@jupyter-widgets/controls",
            "_model_module_version": "1.5.0",
            "_model_name": "HTMLModel",
            "_view_count": null,
            "_view_module": "@jupyter-widgets/controls",
            "_view_module_version": "1.5.0",
            "_view_name": "HTMLView",
            "description": "",
            "description_tooltip": null,
            "layout": "IPY_MODEL_70ddafdab2cb4417b939aaf802f2c81e",
            "placeholder": "​",
            "style": "IPY_MODEL_9f3979f787ad4036b011023016c806e5",
            "value": "Downloading (…)lve/main/config.json: 100%"
          }
        },
        "af46b930d6d74809bf8934935b18c7f9": {
          "model_module": "@jupyter-widgets/base",
          "model_module_version": "1.2.0",
          "model_name": "LayoutModel",
          "state": {
            "_model_module": "@jupyter-widgets/base",
            "_model_module_version": "1.2.0",
            "_model_name": "LayoutModel",
            "_view_count": null,
            "_view_module": "@jupyter-widgets/base",
            "_view_module_version": "1.2.0",
            "_view_name": "LayoutView",
            "align_content": null,
            "align_items": null,
            "align_self": null,
            "border": null,
            "bottom": null,
            "display": null,
            "flex": null,
            "flex_flow": null,
            "grid_area": null,
            "grid_auto_columns": null,
            "grid_auto_flow": null,
            "grid_auto_rows": null,
            "grid_column": null,
            "grid_gap": null,
            "grid_row": null,
            "grid_template_areas": null,
            "grid_template_columns": null,
            "grid_template_rows": null,
            "height": null,
            "justify_content": null,
            "justify_items": null,
            "left": null,
            "margin": null,
            "max_height": null,
            "max_width": null,
            "min_height": null,
            "min_width": null,
            "object_fit": null,
            "object_position": null,
            "order": null,
            "overflow": null,
            "overflow_x": null,
            "overflow_y": null,
            "padding": null,
            "right": null,
            "top": null,
            "visibility": null,
            "width": null
          }
        },
        "b90471c43afa44a9bbe7dd82757bb4ae": {
          "model_module": "@jupyter-widgets/base",
          "model_module_version": "1.2.0",
          "model_name": "LayoutModel",
          "state": {
            "_model_module": "@jupyter-widgets/base",
            "_model_module_version": "1.2.0",
            "_model_name": "LayoutModel",
            "_view_count": null,
            "_view_module": "@jupyter-widgets/base",
            "_view_module_version": "1.2.0",
            "_view_name": "LayoutView",
            "align_content": null,
            "align_items": null,
            "align_self": null,
            "border": null,
            "bottom": null,
            "display": null,
            "flex": null,
            "flex_flow": null,
            "grid_area": null,
            "grid_auto_columns": null,
            "grid_auto_flow": null,
            "grid_auto_rows": null,
            "grid_column": null,
            "grid_gap": null,
            "grid_row": null,
            "grid_template_areas": null,
            "grid_template_columns": null,
            "grid_template_rows": null,
            "height": null,
            "justify_content": null,
            "justify_items": null,
            "left": null,
            "margin": null,
            "max_height": null,
            "max_width": null,
            "min_height": null,
            "min_width": null,
            "object_fit": null,
            "object_position": null,
            "order": null,
            "overflow": null,
            "overflow_x": null,
            "overflow_y": null,
            "padding": null,
            "right": null,
            "top": null,
            "visibility": null,
            "width": null
          }
        },
        "bbf28c9bb86f480a83f52b6b8b468c3e": {
          "model_module": "@jupyter-widgets/controls",
          "model_module_version": "1.5.0",
          "model_name": "HBoxModel",
          "state": {
            "_dom_classes": [],
            "_model_module": "@jupyter-widgets/controls",
            "_model_module_version": "1.5.0",
            "_model_name": "HBoxModel",
            "_view_count": null,
            "_view_module": "@jupyter-widgets/controls",
            "_view_module_version": "1.5.0",
            "_view_name": "HBoxView",
            "box_style": "",
            "children": [
              "IPY_MODEL_137bc8d2dd654176bf6a199db18209f4",
              "IPY_MODEL_5497bae015754137bf8d52f65f43b9af",
              "IPY_MODEL_e8dba1d8a80d44bbbf981da3509102cb"
            ],
            "layout": "IPY_MODEL_99bedf508fc34bd7a964616574ec0ce4"
          }
        },
        "c084d3d64d734fb7ac8e3af9da3d3887": {
          "model_module": "@jupyter-widgets/base",
          "model_module_version": "1.2.0",
          "model_name": "LayoutModel",
          "state": {
            "_model_module": "@jupyter-widgets/base",
            "_model_module_version": "1.2.0",
            "_model_name": "LayoutModel",
            "_view_count": null,
            "_view_module": "@jupyter-widgets/base",
            "_view_module_version": "1.2.0",
            "_view_name": "LayoutView",
            "align_content": null,
            "align_items": null,
            "align_self": null,
            "border": null,
            "bottom": null,
            "display": null,
            "flex": null,
            "flex_flow": null,
            "grid_area": null,
            "grid_auto_columns": null,
            "grid_auto_flow": null,
            "grid_auto_rows": null,
            "grid_column": null,
            "grid_gap": null,
            "grid_row": null,
            "grid_template_areas": null,
            "grid_template_columns": null,
            "grid_template_rows": null,
            "height": null,
            "justify_content": null,
            "justify_items": null,
            "left": null,
            "margin": null,
            "max_height": null,
            "max_width": null,
            "min_height": null,
            "min_width": null,
            "object_fit": null,
            "object_position": null,
            "order": null,
            "overflow": null,
            "overflow_x": null,
            "overflow_y": null,
            "padding": null,
            "right": null,
            "top": null,
            "visibility": null,
            "width": null
          }
        },
        "c2850c51aeeb4d92bca807f184e3b322": {
          "model_module": "@jupyter-widgets/controls",
          "model_module_version": "1.5.0",
          "model_name": "HBoxModel",
          "state": {
            "_dom_classes": [],
            "_model_module": "@jupyter-widgets/controls",
            "_model_module_version": "1.5.0",
            "_model_name": "HBoxModel",
            "_view_count": null,
            "_view_module": "@jupyter-widgets/controls",
            "_view_module_version": "1.5.0",
            "_view_name": "HBoxView",
            "box_style": "",
            "children": [
              "IPY_MODEL_aad07e5884474a689cf9fc6554e2d3c9",
              "IPY_MODEL_c752e01289524e49bb3bb33d6fd89605",
              "IPY_MODEL_fd4befbe3817493b972f656973dd5fa4"
            ],
            "layout": "IPY_MODEL_ef95ba56d78445ecb1cb740b321d7a1b"
          }
        },
        "c2f8c221aa6e4b17b5e17600849a7a49": {
          "model_module": "@jupyter-widgets/controls",
          "model_module_version": "1.5.0",
          "model_name": "DescriptionStyleModel",
          "state": {
            "_model_module": "@jupyter-widgets/controls",
            "_model_module_version": "1.5.0",
            "_model_name": "DescriptionStyleModel",
            "_view_count": null,
            "_view_module": "@jupyter-widgets/base",
            "_view_module_version": "1.2.0",
            "_view_name": "StyleView",
            "description_width": ""
          }
        },
        "c752e01289524e49bb3bb33d6fd89605": {
          "model_module": "@jupyter-widgets/controls",
          "model_module_version": "1.5.0",
          "model_name": "FloatProgressModel",
          "state": {
            "_dom_classes": [],
            "_model_module": "@jupyter-widgets/controls",
            "_model_module_version": "1.5.0",
            "_model_name": "FloatProgressModel",
            "_view_count": null,
            "_view_module": "@jupyter-widgets/controls",
            "_view_module_version": "1.5.0",
            "_view_name": "ProgressView",
            "bar_style": "success",
            "description": "",
            "description_tooltip": null,
            "layout": "IPY_MODEL_c084d3d64d734fb7ac8e3af9da3d3887",
            "max": 558,
            "min": 0,
            "orientation": "horizontal",
            "style": "IPY_MODEL_962080dc41c242c684d857e9baf174e7",
            "value": 558
          }
        },
        "c7c08e103307479db5166f65f9c24f88": {
          "model_module": "@jupyter-widgets/controls",
          "model_module_version": "1.5.0",
          "model_name": "HTMLModel",
          "state": {
            "_dom_classes": [],
            "_model_module": "@jupyter-widgets/controls",
            "_model_module_version": "1.5.0",
            "_model_name": "HTMLModel",
            "_view_count": null,
            "_view_module": "@jupyter-widgets/controls",
            "_view_module_version": "1.5.0",
            "_view_name": "HTMLView",
            "description": "",
            "description_tooltip": null,
            "layout": "IPY_MODEL_7964e7efcc4447ef8ad5e45bb9f7c541",
            "placeholder": "​",
            "style": "IPY_MODEL_77cce7ea0d6e4bf184f484658d9b084d",
            "value": " 1.48G/1.48G [00:16&lt;00:00, 91.7MB/s]"
          }
        },
        "c84f0885c5da467d9cc49c5853bec854": {
          "model_module": "@jupyter-widgets/controls",
          "model_module_version": "1.5.0",
          "model_name": "DescriptionStyleModel",
          "state": {
            "_model_module": "@jupyter-widgets/controls",
            "_model_module_version": "1.5.0",
            "_model_name": "DescriptionStyleModel",
            "_view_count": null,
            "_view_module": "@jupyter-widgets/base",
            "_view_module_version": "1.2.0",
            "_view_name": "StyleView",
            "description_width": ""
          }
        },
        "cb0c9b7ed9414269ba0d191cfd20d91a": {
          "model_module": "@jupyter-widgets/base",
          "model_module_version": "1.2.0",
          "model_name": "LayoutModel",
          "state": {
            "_model_module": "@jupyter-widgets/base",
            "_model_module_version": "1.2.0",
            "_model_name": "LayoutModel",
            "_view_count": null,
            "_view_module": "@jupyter-widgets/base",
            "_view_module_version": "1.2.0",
            "_view_name": "LayoutView",
            "align_content": null,
            "align_items": null,
            "align_self": null,
            "border": null,
            "bottom": null,
            "display": null,
            "flex": null,
            "flex_flow": null,
            "grid_area": null,
            "grid_auto_columns": null,
            "grid_auto_flow": null,
            "grid_auto_rows": null,
            "grid_column": null,
            "grid_gap": null,
            "grid_row": null,
            "grid_template_areas": null,
            "grid_template_columns": null,
            "grid_template_rows": null,
            "height": null,
            "justify_content": null,
            "justify_items": null,
            "left": null,
            "margin": null,
            "max_height": null,
            "max_width": null,
            "min_height": null,
            "min_width": null,
            "object_fit": null,
            "object_position": null,
            "order": null,
            "overflow": null,
            "overflow_x": null,
            "overflow_y": null,
            "padding": null,
            "right": null,
            "top": null,
            "visibility": null,
            "width": null
          }
        },
        "ce2aa5a82c534703a5d56266471ad529": {
          "model_module": "@jupyter-widgets/controls",
          "model_module_version": "1.5.0",
          "model_name": "ProgressStyleModel",
          "state": {
            "_model_module": "@jupyter-widgets/controls",
            "_model_module_version": "1.5.0",
            "_model_name": "ProgressStyleModel",
            "_view_count": null,
            "_view_module": "@jupyter-widgets/base",
            "_view_module_version": "1.2.0",
            "_view_name": "StyleView",
            "bar_color": null,
            "description_width": ""
          }
        },
        "d0a9b95a9b394bf5b7d2ce6bce2fd83f": {
          "model_module": "@jupyter-widgets/controls",
          "model_module_version": "1.5.0",
          "model_name": "DescriptionStyleModel",
          "state": {
            "_model_module": "@jupyter-widgets/controls",
            "_model_module_version": "1.5.0",
            "_model_name": "DescriptionStyleModel",
            "_view_count": null,
            "_view_module": "@jupyter-widgets/base",
            "_view_module_version": "1.2.0",
            "_view_name": "StyleView",
            "description_width": ""
          }
        },
        "d6d1e8e450924951bd8877fb9f6830cf": {
          "model_module": "@jupyter-widgets/controls",
          "model_module_version": "1.5.0",
          "model_name": "HTMLModel",
          "state": {
            "_dom_classes": [],
            "_model_module": "@jupyter-widgets/controls",
            "_model_module_version": "1.5.0",
            "_model_name": "HTMLModel",
            "_view_count": null,
            "_view_module": "@jupyter-widgets/controls",
            "_view_module_version": "1.5.0",
            "_view_name": "HTMLView",
            "description": "",
            "description_tooltip": null,
            "layout": "IPY_MODEL_8c2f6c11c83949dda866aaacb0045640",
            "placeholder": "​",
            "style": "IPY_MODEL_4ddfa803a8ef454680d679b2ee67e69e",
            "value": " 895k/895k [00:00&lt;00:00, 28.7MB/s]"
          }
        },
        "db846859e34c45248cc14046e0bdc99d": {
          "model_module": "@jupyter-widgets/controls",
          "model_module_version": "1.5.0",
          "model_name": "ProgressStyleModel",
          "state": {
            "_model_module": "@jupyter-widgets/controls",
            "_model_module_version": "1.5.0",
            "_model_name": "ProgressStyleModel",
            "_view_count": null,
            "_view_module": "@jupyter-widgets/base",
            "_view_module_version": "1.2.0",
            "_view_name": "StyleView",
            "bar_color": null,
            "description_width": ""
          }
        },
        "e8dba1d8a80d44bbbf981da3509102cb": {
          "model_module": "@jupyter-widgets/controls",
          "model_module_version": "1.5.0",
          "model_name": "HTMLModel",
          "state": {
            "_dom_classes": [],
            "_model_module": "@jupyter-widgets/controls",
            "_model_module_version": "1.5.0",
            "_model_name": "HTMLModel",
            "_view_count": null,
            "_view_module": "@jupyter-widgets/controls",
            "_view_module_version": "1.5.0",
            "_view_name": "HTMLView",
            "description": "",
            "description_tooltip": null,
            "layout": "IPY_MODEL_8622c77477af413eb852dbc385999b35",
            "placeholder": "​",
            "style": "IPY_MODEL_6bf44470d5f949c8996ab4e3e4c0965a",
            "value": " 1.14M/1.14M [00:01&lt;00:00, 1.08MB/s]"
          }
        },
        "ea40d751bd9841d1a5e666f62241cdcf": {
          "model_module": "@jupyter-widgets/controls",
          "model_module_version": "1.5.0",
          "model_name": "FloatProgressModel",
          "state": {
            "_dom_classes": [],
            "_model_module": "@jupyter-widgets/controls",
            "_model_module_version": "1.5.0",
            "_model_name": "FloatProgressModel",
            "_view_count": null,
            "_view_module": "@jupyter-widgets/controls",
            "_view_module_version": "1.5.0",
            "_view_name": "ProgressView",
            "bar_style": "success",
            "description": "",
            "description_tooltip": null,
            "layout": "IPY_MODEL_fabc7e1ff410421cbb36c5c45f5d4839",
            "max": 895321,
            "min": 0,
            "orientation": "horizontal",
            "style": "IPY_MODEL_3c2e7d1303b842f2b9500567f8b4c6fc",
            "value": 895321
          }
        },
        "ee60c9565f544b168a1757d5e9fca961": {
          "model_module": "@jupyter-widgets/base",
          "model_module_version": "1.2.0",
          "model_name": "LayoutModel",
          "state": {
            "_model_module": "@jupyter-widgets/base",
            "_model_module_version": "1.2.0",
            "_model_name": "LayoutModel",
            "_view_count": null,
            "_view_module": "@jupyter-widgets/base",
            "_view_module_version": "1.2.0",
            "_view_name": "LayoutView",
            "align_content": null,
            "align_items": null,
            "align_self": null,
            "border": null,
            "bottom": null,
            "display": null,
            "flex": null,
            "flex_flow": null,
            "grid_area": null,
            "grid_auto_columns": null,
            "grid_auto_flow": null,
            "grid_auto_rows": null,
            "grid_column": null,
            "grid_gap": null,
            "grid_row": null,
            "grid_template_areas": null,
            "grid_template_columns": null,
            "grid_template_rows": null,
            "height": null,
            "justify_content": null,
            "justify_items": null,
            "left": null,
            "margin": null,
            "max_height": null,
            "max_width": null,
            "min_height": null,
            "min_width": null,
            "object_fit": null,
            "object_position": null,
            "order": null,
            "overflow": null,
            "overflow_x": null,
            "overflow_y": null,
            "padding": null,
            "right": null,
            "top": null,
            "visibility": null,
            "width": null
          }
        },
        "ef95ba56d78445ecb1cb740b321d7a1b": {
          "model_module": "@jupyter-widgets/base",
          "model_module_version": "1.2.0",
          "model_name": "LayoutModel",
          "state": {
            "_model_module": "@jupyter-widgets/base",
            "_model_module_version": "1.2.0",
            "_model_name": "LayoutModel",
            "_view_count": null,
            "_view_module": "@jupyter-widgets/base",
            "_view_module_version": "1.2.0",
            "_view_name": "LayoutView",
            "align_content": null,
            "align_items": null,
            "align_self": null,
            "border": null,
            "bottom": null,
            "display": null,
            "flex": null,
            "flex_flow": null,
            "grid_area": null,
            "grid_auto_columns": null,
            "grid_auto_flow": null,
            "grid_auto_rows": null,
            "grid_column": null,
            "grid_gap": null,
            "grid_row": null,
            "grid_template_areas": null,
            "grid_template_columns": null,
            "grid_template_rows": null,
            "height": null,
            "justify_content": null,
            "justify_items": null,
            "left": null,
            "margin": null,
            "max_height": null,
            "max_width": null,
            "min_height": null,
            "min_width": null,
            "object_fit": null,
            "object_position": null,
            "order": null,
            "overflow": null,
            "overflow_x": null,
            "overflow_y": null,
            "padding": null,
            "right": null,
            "top": null,
            "visibility": null,
            "width": null
          }
        },
        "fabc7e1ff410421cbb36c5c45f5d4839": {
          "model_module": "@jupyter-widgets/base",
          "model_module_version": "1.2.0",
          "model_name": "LayoutModel",
          "state": {
            "_model_module": "@jupyter-widgets/base",
            "_model_module_version": "1.2.0",
            "_model_name": "LayoutModel",
            "_view_count": null,
            "_view_module": "@jupyter-widgets/base",
            "_view_module_version": "1.2.0",
            "_view_name": "LayoutView",
            "align_content": null,
            "align_items": null,
            "align_self": null,
            "border": null,
            "bottom": null,
            "display": null,
            "flex": null,
            "flex_flow": null,
            "grid_area": null,
            "grid_auto_columns": null,
            "grid_auto_flow": null,
            "grid_auto_rows": null,
            "grid_column": null,
            "grid_gap": null,
            "grid_row": null,
            "grid_template_areas": null,
            "grid_template_columns": null,
            "grid_template_rows": null,
            "height": null,
            "justify_content": null,
            "justify_items": null,
            "left": null,
            "margin": null,
            "max_height": null,
            "max_width": null,
            "min_height": null,
            "min_width": null,
            "object_fit": null,
            "object_position": null,
            "order": null,
            "overflow": null,
            "overflow_x": null,
            "overflow_y": null,
            "padding": null,
            "right": null,
            "top": null,
            "visibility": null,
            "width": null
          }
        },
        "fd4befbe3817493b972f656973dd5fa4": {
          "model_module": "@jupyter-widgets/controls",
          "model_module_version": "1.5.0",
          "model_name": "HTMLModel",
          "state": {
            "_dom_classes": [],
            "_model_module": "@jupyter-widgets/controls",
            "_model_module_version": "1.5.0",
            "_model_name": "HTMLModel",
            "_view_count": null,
            "_view_module": "@jupyter-widgets/controls",
            "_view_module_version": "1.5.0",
            "_view_name": "HTMLView",
            "description": "",
            "description_tooltip": null,
            "layout": "IPY_MODEL_887319e205c341df931e784c59abc7b7",
            "placeholder": "​",
            "style": "IPY_MODEL_c84f0885c5da467d9cc49c5853bec854",
            "value": " 558/558 [00:00&lt;00:00, 10.1kB/s]"
          }
        }
      }
    }
  },
  "nbformat": 4,
  "nbformat_minor": 0
}
