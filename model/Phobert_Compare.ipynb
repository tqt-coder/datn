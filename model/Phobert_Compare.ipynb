{
  "cells": [
    {
      "cell_type": "code",
      "execution_count": 1,
      "metadata": {
        "colab": {
          "base_uri": "https://localhost:8080/"
        },
        "id": "N6nkXigkBlxA",
        "outputId": "eecc515f-cc49-4d2f-eb0d-ce48d5dad97c"
      },
      "outputs": [
        {
          "name": "stdout",
          "output_type": "stream",
          "text": [
            "Mounted at /content/drive\n"
          ]
        }
      ],
      "source": [
        "from google.colab import drive\n",
        "drive.mount('/content/drive')"
      ]
    },
    {
      "cell_type": "code",
      "execution_count": 2,
      "metadata": {
        "colab": {
          "base_uri": "https://localhost:8080/"
        },
        "id": "U8WuUqPYBphD",
        "outputId": "13c1c782-8893-4580-9fd9-908f2bef9a27"
      },
      "outputs": [
        {
          "data": {
            "text/plain": [
              "['VnCoreNLP-1.1.1',\n",
              " 'test_vi.json',\n",
              " 'val_vi.json',\n",
              " 'train_vi.json',\n",
              " 'final_model_length_256',\n",
              " 'final_model',\n",
              " 'KLTN.gdoc']"
            ]
          },
          "execution_count": 2,
          "metadata": {},
          "output_type": "execute_result"
        }
      ],
      "source": [
        "folder_path = '/content/drive/MyDrive/pho-bert'\n",
        "import os\n",
        "os.listdir(folder_path)"
      ]
    },
    {
      "cell_type": "code",
      "execution_count": 3,
      "metadata": {
        "colab": {
          "base_uri": "https://localhost:8080/"
        },
        "id": "W1EnGsAeB2-Y",
        "outputId": "44755633-b178-4f3e-f968-25c3b71f47a7"
      },
      "outputs": [
        {
          "name": "stdout",
          "output_type": "stream",
          "text": [
            "Collecting transformers\n",
            "  Downloading transformers-4.30.2-py3-none-any.whl (7.2 MB)\n",
            "\u001b[2K     \u001b[90m━━━━━━━━━━━━━━━━━━━━━━━━━━━━━━━━━━━━━━━━\u001b[0m \u001b[32m7.2/7.2 MB\u001b[0m \u001b[31m101.4 MB/s\u001b[0m eta \u001b[36m0:00:00\u001b[0m\n",
            "\u001b[?25hRequirement already satisfied: filelock in /usr/local/lib/python3.10/dist-packages (from transformers) (3.12.2)\n",
            "Collecting huggingface-hub<1.0,>=0.14.1 (from transformers)\n",
            "  Downloading huggingface_hub-0.16.4-py3-none-any.whl (268 kB)\n",
            "\u001b[2K     \u001b[90m━━━━━━━━━━━━━━━━━━━━━━━━━━━━━━━━━━━━━━\u001b[0m \u001b[32m268.8/268.8 kB\u001b[0m \u001b[31m30.1 MB/s\u001b[0m eta \u001b[36m0:00:00\u001b[0m\n",
            "\u001b[?25hRequirement already satisfied: numpy>=1.17 in /usr/local/lib/python3.10/dist-packages (from transformers) (1.22.4)\n",
            "Requirement already satisfied: packaging>=20.0 in /usr/local/lib/python3.10/dist-packages (from transformers) (23.1)\n",
            "Requirement already satisfied: pyyaml>=5.1 in /usr/local/lib/python3.10/dist-packages (from transformers) (6.0)\n",
            "Requirement already satisfied: regex!=2019.12.17 in /usr/local/lib/python3.10/dist-packages (from transformers) (2022.10.31)\n",
            "Requirement already satisfied: requests in /usr/local/lib/python3.10/dist-packages (from transformers) (2.27.1)\n",
            "Collecting tokenizers!=0.11.3,<0.14,>=0.11.1 (from transformers)\n",
            "  Downloading tokenizers-0.13.3-cp310-cp310-manylinux_2_17_x86_64.manylinux2014_x86_64.whl (7.8 MB)\n",
            "\u001b[2K     \u001b[90m━━━━━━━━━━━━━━━━━━━━━━━━━━━━━━━━━━━━━━━━\u001b[0m \u001b[32m7.8/7.8 MB\u001b[0m \u001b[31m88.8 MB/s\u001b[0m eta \u001b[36m0:00:00\u001b[0m\n",
            "\u001b[?25hCollecting safetensors>=0.3.1 (from transformers)\n",
            "  Downloading safetensors-0.3.1-cp310-cp310-manylinux_2_17_x86_64.manylinux2014_x86_64.whl (1.3 MB)\n",
            "\u001b[2K     \u001b[90m━━━━━━━━━━━━━━━━━━━━━━━━━━━━━━━━━━━━━━━━\u001b[0m \u001b[32m1.3/1.3 MB\u001b[0m \u001b[31m73.4 MB/s\u001b[0m eta \u001b[36m0:00:00\u001b[0m\n",
            "\u001b[?25hRequirement already satisfied: tqdm>=4.27 in /usr/local/lib/python3.10/dist-packages (from transformers) (4.65.0)\n",
            "Requirement already satisfied: fsspec in /usr/local/lib/python3.10/dist-packages (from huggingface-hub<1.0,>=0.14.1->transformers) (2023.6.0)\n",
            "Requirement already satisfied: typing-extensions>=3.7.4.3 in /usr/local/lib/python3.10/dist-packages (from huggingface-hub<1.0,>=0.14.1->transformers) (4.7.1)\n",
            "Requirement already satisfied: urllib3<1.27,>=1.21.1 in /usr/local/lib/python3.10/dist-packages (from requests->transformers) (1.26.16)\n",
            "Requirement already satisfied: certifi>=2017.4.17 in /usr/local/lib/python3.10/dist-packages (from requests->transformers) (2023.5.7)\n",
            "Requirement already satisfied: charset-normalizer~=2.0.0 in /usr/local/lib/python3.10/dist-packages (from requests->transformers) (2.0.12)\n",
            "Requirement already satisfied: idna<4,>=2.5 in /usr/local/lib/python3.10/dist-packages (from requests->transformers) (3.4)\n",
            "Installing collected packages: tokenizers, safetensors, huggingface-hub, transformers\n",
            "Successfully installed huggingface-hub-0.16.4 safetensors-0.3.1 tokenizers-0.13.3 transformers-4.30.2\n",
            "Requirement already satisfied: torch in /usr/local/lib/python3.10/dist-packages (2.0.1+cu118)\n",
            "Requirement already satisfied: filelock in /usr/local/lib/python3.10/dist-packages (from torch) (3.12.2)\n",
            "Requirement already satisfied: typing-extensions in /usr/local/lib/python3.10/dist-packages (from torch) (4.7.1)\n",
            "Requirement already satisfied: sympy in /usr/local/lib/python3.10/dist-packages (from torch) (1.11.1)\n",
            "Requirement already satisfied: networkx in /usr/local/lib/python3.10/dist-packages (from torch) (3.1)\n",
            "Requirement already satisfied: jinja2 in /usr/local/lib/python3.10/dist-packages (from torch) (3.1.2)\n",
            "Requirement already satisfied: triton==2.0.0 in /usr/local/lib/python3.10/dist-packages (from torch) (2.0.0)\n",
            "Requirement already satisfied: cmake in /usr/local/lib/python3.10/dist-packages (from triton==2.0.0->torch) (3.25.2)\n",
            "Requirement already satisfied: lit in /usr/local/lib/python3.10/dist-packages (from triton==2.0.0->torch) (16.0.6)\n",
            "Requirement already satisfied: MarkupSafe>=2.0 in /usr/local/lib/python3.10/dist-packages (from jinja2->torch) (2.1.3)\n",
            "Requirement already satisfied: mpmath>=0.19 in /usr/local/lib/python3.10/dist-packages (from sympy->torch) (1.3.0)\n",
            "Collecting vncorenlp\n",
            "  Downloading vncorenlp-1.0.3.tar.gz (2.6 MB)\n",
            "\u001b[2K     \u001b[90m━━━━━━━━━━━━━━━━━━━━━━━━━━━━━━━━━━━━━━━━\u001b[0m \u001b[32m2.6/2.6 MB\u001b[0m \u001b[31m60.6 MB/s\u001b[0m eta \u001b[36m0:00:00\u001b[0m\n",
            "\u001b[?25h  Preparing metadata (setup.py) ... \u001b[?25l\u001b[?25hdone\n",
            "Requirement already satisfied: requests in /usr/local/lib/python3.10/dist-packages (from vncorenlp) (2.27.1)\n",
            "Requirement already satisfied: urllib3<1.27,>=1.21.1 in /usr/local/lib/python3.10/dist-packages (from requests->vncorenlp) (1.26.16)\n",
            "Requirement already satisfied: certifi>=2017.4.17 in /usr/local/lib/python3.10/dist-packages (from requests->vncorenlp) (2023.5.7)\n",
            "Requirement already satisfied: charset-normalizer~=2.0.0 in /usr/local/lib/python3.10/dist-packages (from requests->vncorenlp) (2.0.12)\n",
            "Requirement already satisfied: idna<4,>=2.5 in /usr/local/lib/python3.10/dist-packages (from requests->vncorenlp) (3.4)\n",
            "Building wheels for collected packages: vncorenlp\n",
            "  Building wheel for vncorenlp (setup.py) ... \u001b[?25l\u001b[?25hdone\n",
            "  Created wheel for vncorenlp: filename=vncorenlp-1.0.3-py3-none-any.whl size=2645933 sha256=3684f8e6a68e5271758e59729b43936f2af89b785d708bc8478ad40008551f09\n",
            "  Stored in directory: /root/.cache/pip/wheels/5d/d9/b3/41f6c6b1ab758561fd4aab55dc0480b9d7a131c6aaa573a3fa\n",
            "Successfully built vncorenlp\n",
            "Installing collected packages: vncorenlp\n",
            "Successfully installed vncorenlp-1.0.3\n"
          ]
        }
      ],
      "source": [
        "!pip install transformers\n",
        "!pip install torch\n",
        "!pip install vncorenlp"
      ]
    },
    {
      "cell_type": "code",
      "execution_count": 4,
      "metadata": {
        "id": "EKijEfBJCUUf"
      },
      "outputs": [],
      "source": [
        "from transformers import BertTokenizer, BertForPreTraining, BertForQuestionAnswering, BertModel, BertConfig\n",
        "from transformers import XLMRobertaForQuestionAnswering, XLMRobertaTokenizer\n",
        "import torch\n",
        "import torch.nn as nn\n",
        "from transformers.data.metrics.squad_metrics import compute_predictions_log_probs, compute_predictions_logits, squad_evaluate\n",
        "from transformers.data.processors.squad import SquadResult, SquadV1Processor, SquadV2Processor, SquadProcessor, SquadExample\n",
        "from transformers import AutoModel, AutoTokenizer\n",
        "from transformers import RobertaForQuestionAnswering, RobertaConfig, WEIGHTS_NAME"
      ]
    },
    {
      "cell_type": "code",
      "execution_count": 5,
      "metadata": {
        "colab": {
          "base_uri": "https://localhost:8080/",
          "height": 321,
          "referenced_widgets": [
            "6296e4ec934b493c9ada8bdd97225340",
            "0e1318594a664919bb866727c68d85e7",
            "1d9d5371171044ecb46dff829254100d",
            "10e45454cc644c08bf7f83928c19252c",
            "99732308a2b248d5bacb3cdbe6edcfb2",
            "498976ac091241658d0024ff70d1e1b3",
            "1d324c20bb4f4d1cabb3672c9afcc620",
            "e8884348ce164823a6f5ebe78c1462df",
            "920419e675f34477ab100283c351d3ee",
            "3ec7207a47554e2ab01911b699db43de",
            "c7302d5ecfc141939356c7b85a8e57bc",
            "c55755413c6f457ebe00bc77129ec412",
            "aa0ce15c39ed4f01ae5ac645fe217f25",
            "224941d5be384c31b408f25dff2d9eeb",
            "48faef286f88499bbf74a2eab30321f3",
            "a51e7d3d553b4a1f84c6918005af1bd6",
            "f1564c2b33414d1cadf427fa605a89e5",
            "4354b03d95d24284add4bf8caff74f7b",
            "91220185f6d44c138c2a157ab5c8881c",
            "9e268394c77c4b4a9b7bd571c1967c42",
            "e80bc0b526e9465c926d916e7d29c898",
            "52208e7cf2ef42379e08e2972c0b3b80",
            "14138ea207ba42bfb05e152c6d72c0ce",
            "f074171f85ee47169e5ab79e2fbc0f2b",
            "476adaf03e824e1ebed0f9fe9e1c87f5",
            "ce7bed6bdc174ced92b663e507bd0f99",
            "c92fffe2150c48e69f10006cbaf17335",
            "e83b1426c3b243b1a1f57200d25ccd4e",
            "2d0e6f54e22d4f02b21be338530be715",
            "b8799948035f4d5a9a9e2242effb034f",
            "89584073972040bca753c6f45894a62e",
            "e3d8b7b95ee8470fb481e246628f2ae7",
            "f9636941fabf4745b7d31163bb2902d7",
            "f5b7f642527248789e74bd44d0d26559",
            "a41e5ae68a3549f1966b3a5beff84fc0",
            "d8418517ca0a43119e7417d2f15854dc",
            "224016c6bf9348c1b79dc0f4ee7f23f8",
            "ecb3928d89ce44cb9c8bf60b7a2af141",
            "4667900c195e41439b149c327520eef5",
            "6df4941705de4425be43fe2be6976d79",
            "47ad77a64c57429b96ed13abd5bdb8b5",
            "1e4757909cc240cc89fb54c887f92d9a",
            "8f2c71aa8ab04f2f8c38734fae47c22e",
            "e25d786792404cf9a2c30ae5d209b8b1"
          ]
        },
        "id": "8Ww9c9T0ChT-",
        "outputId": "ef3291c1-e1ff-40b5-9b41-3fd0bd2154d7"
      },
      "outputs": [
        {
          "data": {
            "application/vnd.jupyter.widget-view+json": {
              "model_id": "6296e4ec934b493c9ada8bdd97225340",
              "version_major": 2,
              "version_minor": 0
            },
            "text/plain": [
              "Downloading (…)lve/main/config.json:   0%|          | 0.00/558 [00:00<?, ?B/s]"
            ]
          },
          "metadata": {},
          "output_type": "display_data"
        },
        {
          "data": {
            "application/vnd.jupyter.widget-view+json": {
              "model_id": "c55755413c6f457ebe00bc77129ec412",
              "version_major": 2,
              "version_minor": 0
            },
            "text/plain": [
              "Downloading pytorch_model.bin:   0%|          | 0.00/1.48G [00:00<?, ?B/s]"
            ]
          },
          "metadata": {},
          "output_type": "display_data"
        },
        {
          "name": "stderr",
          "output_type": "stream",
          "text": [
            "Some weights of the model checkpoint at vinai/phobert-large were not used when initializing RobertaModel: ['lm_head.dense.bias', 'lm_head.layer_norm.bias', 'lm_head.dense.weight', 'lm_head.decoder.weight', 'lm_head.bias', 'lm_head.layer_norm.weight', 'lm_head.decoder.bias']\n",
            "- This IS expected if you are initializing RobertaModel from the checkpoint of a model trained on another task or with another architecture (e.g. initializing a BertForSequenceClassification model from a BertForPreTraining model).\n",
            "- This IS NOT expected if you are initializing RobertaModel from the checkpoint of a model that you expect to be exactly identical (initializing a BertForSequenceClassification model from a BertForSequenceClassification model).\n"
          ]
        },
        {
          "data": {
            "application/vnd.jupyter.widget-view+json": {
              "model_id": "14138ea207ba42bfb05e152c6d72c0ce",
              "version_major": 2,
              "version_minor": 0
            },
            "text/plain": [
              "Downloading (…)solve/main/vocab.txt:   0%|          | 0.00/895k [00:00<?, ?B/s]"
            ]
          },
          "metadata": {},
          "output_type": "display_data"
        },
        {
          "data": {
            "application/vnd.jupyter.widget-view+json": {
              "model_id": "f5b7f642527248789e74bd44d0d26559",
              "version_major": 2,
              "version_minor": 0
            },
            "text/plain": [
              "Downloading (…)solve/main/bpe.codes:   0%|          | 0.00/1.14M [00:00<?, ?B/s]"
            ]
          },
          "metadata": {},
          "output_type": "display_data"
        },
        {
          "name": "stderr",
          "output_type": "stream",
          "text": [
            "Special tokens have been added in the vocabulary, make sure the associated word embeddings are fine-tuned or trained.\n",
            "Some weights of the model checkpoint at vinai/phobert-large were not used when initializing RobertaForQuestionAnswering: ['lm_head.dense.bias', 'lm_head.layer_norm.bias', 'lm_head.dense.weight', 'lm_head.decoder.weight', 'lm_head.bias', 'lm_head.layer_norm.weight', 'lm_head.decoder.bias']\n",
            "- This IS expected if you are initializing RobertaForQuestionAnswering from the checkpoint of a model trained on another task or with another architecture (e.g. initializing a BertForSequenceClassification model from a BertForPreTraining model).\n",
            "- This IS NOT expected if you are initializing RobertaForQuestionAnswering from the checkpoint of a model that you expect to be exactly identical (initializing a BertForSequenceClassification model from a BertForSequenceClassification model).\n",
            "Some weights of RobertaForQuestionAnswering were not initialized from the model checkpoint at vinai/phobert-large and are newly initialized: ['qa_outputs.weight', 'qa_outputs.bias']\n",
            "You should probably TRAIN this model on a down-stream task to be able to use it for predictions and inference.\n"
          ]
        }
      ],
      "source": [
        "phobert = AutoModel.from_pretrained(\"vinai/phobert-large\")\n",
        "tokenizer = AutoTokenizer.from_pretrained(\"vinai/phobert-large\")\n",
        "model = RobertaForQuestionAnswering(phobert.config).from_pretrained(\"vinai/phobert-large\")"
      ]
    },
    {
      "cell_type": "code",
      "execution_count": 6,
      "metadata": {
        "id": "vrBjH3zKCwxH"
      },
      "outputs": [],
      "source": [
        "from vncorenlp import VnCoreNLP\n",
        "annotator = VnCoreNLP(\"/content/drive/MyDrive/pho-bert/VnCoreNLP-1.1.1/VnCoreNLP-1.1.1/VnCoreNLP-1.1.1.jar\",port=9000, annotators=\"wseg,pos,ner,parse\", max_heap_size='-Xmx2g')\n",
        "def VnCoreNLP1(X_train):\n",
        "  X_train = annotator.tokenize(X_train)\n",
        "  p = ''\n",
        "  for i in range(0, len(X_train)):\n",
        "    for x in X_train[i]:\n",
        "      w = ''\n",
        "      w = w + x + ' '\n",
        "      p+=w\n",
        "  p=p.replace(\" ,\",\",\")\n",
        "  p=p.replace(\" .\",\".\")\n",
        "  p=p.replace(\"( \",\"(\")\n",
        "  p=p.replace(\" )\",\")\")\n",
        "  p=p.replace(' \" ',' \"')\n",
        "  p=p.replace(\"* \",\"*\")\n",
        "  p=p.replace(\" ;\",\";\")\n",
        "  p=p.replace(\" ?\",\"?\")\n",
        "  p=p.replace(\" {\",\"{\")\n",
        "  p=p.replace(\"{ \",\"{\")\n",
        "  p=p.replace(\" }\",\"}\")\n",
        "  p=p.replace(\"} \",\"}\")\n",
        "  p=p.replace(\" /\",\"/\")\n",
        "  p=p.replace(\"/ \",\"/\")\n",
        "  return p"
      ]
    },
    {
      "cell_type": "code",
      "execution_count": 7,
      "metadata": {
        "id": "tSPXw3bxC5QZ"
      },
      "outputs": [],
      "source": [
        "def checkAns(answer, context_text):\n",
        "  ans=context_text[answer[\"answer_start\"] : answer[\"answer_start\"]+ len(answer[\"text\"])]\n",
        "  l=ans.replace(\"_\",\" \")\n",
        "  if(l == answer[\"text\"]):\n",
        "    return ans, answer[\"answer_start\"]\n",
        "  else:\n",
        "    firstWord=answer[\"text\"].split(' ')[0]\n",
        "    lenWord=len(firstWord)\n",
        "    for i in range(1,8):\n",
        "      try:\n",
        "        position_1=answer[\"answer_start\"]-i\n",
        "        word=context_text[position_1: position_1+ lenWord]\n",
        "        if(firstWord == word):\n",
        "          return context_text[position_1: position_1+ len(answer[\"text\"])],position_1\n",
        "        position_2=answer[\"answer_start\"]+i\n",
        "        word=context_text[position_2: position_2+ lenWord]\n",
        "        if(firstWord == word):\n",
        "          return context_text[position_2: position_2+ len(answer[\"text\"])],position_2\n",
        "      except:\n",
        "        return ans, answer[\"answer_start\"]\n",
        "    return ans, answer[\"answer_start\"]"
      ]
    },
    {
      "cell_type": "code",
      "execution_count": 8,
      "metadata": {
        "id": "2C7C2MT_C6Ys"
      },
      "outputs": [],
      "source": [
        "def checkTempAns(answer, context_text):\n",
        "  firstWord=answer[\"text\"].split(' ')[0]\n",
        "  lenWord=len(firstWord)\n",
        "  for i in range(1,8):\n",
        "    try:\n",
        "      position_1=answer[\"answer_start\"]-i\n",
        "      word=context_text[position_1: position_1+ lenWord]\n",
        "      if(firstWord == word):\n",
        "        return context_text[position_1: position_1+ len(answer[\"text\"])],position_1\n",
        "      position_2=answer[\"answer_start\"]+i\n",
        "      word=context_text[position_2: position_2+ lenWord]\n",
        "      if(firstWord == word):\n",
        "        return context_text[position_2: position_2+ len(answer[\"text\"])],position_2\n",
        "    except:\n",
        "      return context_text[answer[\"answer_start\"] : answer[\"answer_start\"]+ len(answer[\"text\"])], answer[\"answer_start\"]\n",
        "  return context_text[answer[\"answer_start\"] : answer[\"answer_start\"]+ len(answer[\"text\"])], answer[\"answer_start\"]"
      ]
    },
    {
      "cell_type": "code",
      "execution_count": 9,
      "metadata": {
        "id": "aTjeQDVoC9XG"
      },
      "outputs": [],
      "source": [
        "from tqdm import tqdm\n",
        "class VnCoreSquad(SquadProcessor):\n",
        "  train_file = \"train-v1.1.json\"\n",
        "  dev_file = \"dev-v1.1.json\"\n",
        "  def _create_examples(self, input_data, set_type):\n",
        "        is_training = set_type == \"train\"\n",
        "        examples = []\n",
        "        demso=0\n",
        "        for entry in tqdm(input_data):\n",
        "            title = entry[\"title\"]\n",
        "            for paragraph in entry[\"paragraphs\"]:\n",
        "                context_text = VnCoreNLP1(paragraph[\"context\"])\n",
        "                for qa in paragraph[\"qas\"]:\n",
        "                    qas_id = qa[\"id\"]\n",
        "                    question_text = VnCoreNLP1(qa[\"question\"])\n",
        "                    start_position_character = None\n",
        "                    answer_text = None\n",
        "                    answers = []\n",
        "\n",
        "                    is_impossible = qa.get(\"is_impossible\", False)\n",
        "                    if not is_impossible:\n",
        "                        if is_training:\n",
        "                            answer = qa[\"answers\"][0]\n",
        "                            answer_text, start_position_character=checkAns(answer, context_text)\n",
        "                            qa[\"answers\"][0].update({\"text\": answer_text})\n",
        "                            qa[\"answers\"][0].update({\"answer_start\": start_position_character})\n",
        "                        else:\n",
        "                            for k in range(0, len(qa[\"answers\"])):\n",
        "                              ans, start_position=checkTempAns(qa[\"answers\"][k],context_text)\n",
        "                              qa[\"answers\"][k].update({\"text\": ans})\n",
        "                              qa[\"answers\"][k].update({\"answer_start\": start_position})\n",
        "\n",
        "                            answers = qa[\"answers\"]\n",
        "                    example = SquadExample(\n",
        "                        qas_id=qas_id,\n",
        "                        question_text=question_text,\n",
        "                        context_text=context_text,\n",
        "                        answer_text=answer_text,\n",
        "                        start_position_character=start_position_character,\n",
        "                        title=title,\n",
        "                        is_impossible=is_impossible,\n",
        "                        answers=answers,\n",
        "                    )\n",
        "                    examples.append(example)\n",
        "        return examples\n",
        "processor = VnCoreSquad()"
      ]
    },
    {
      "cell_type": "code",
      "execution_count": 10,
      "metadata": {
        "id": "6g2EzlcdDDBH"
      },
      "outputs": [],
      "source": [
        "import json\n",
        "import pandas as pd\n",
        "from sklearn.model_selection import train_test_split"
      ]
    },
    {
      "cell_type": "code",
      "execution_count": 11,
      "metadata": {
        "colab": {
          "base_uri": "https://localhost:8080/"
        },
        "id": "yx4fb35zDFsV",
        "outputId": "76aa3b5a-6e99-4c1e-9c81-a3af54b51e3a"
      },
      "outputs": [
        {
          "name": "stderr",
          "output_type": "stream",
          "text": [
            "100%|██████████| 110/110 [01:49<00:00,  1.00it/s]\n",
            "100%|██████████| 13/13 [00:13<00:00,  1.02s/it]\n"
          ]
        }
      ],
      "source": [
        "train_examples = processor.get_train_examples('','/content/drive/MyDrive/pho-bert/train_vi.json')\n",
        "dev_examples = processor.get_dev_examples('','/content/drive/MyDrive/pho-bert/val_vi.json')"
      ]
    },
    {
      "cell_type": "code",
      "execution_count": 12,
      "metadata": {
        "id": "u5vXyXKHQKsP"
      },
      "outputs": [],
      "source": [
        "from transformers.data.processors.squad import squad_convert_examples_to_features"
      ]
    },
    {
      "cell_type": "code",
      "execution_count": 13,
      "metadata": {
        "colab": {
          "base_uri": "https://localhost:8080/"
        },
        "id": "TlmwaVmBenG3",
        "outputId": "4c50ed34-edba-44a1-d3b3-7db4b9b0406f"
      },
      "outputs": [
        {
          "name": "stderr",
          "output_type": "stream",
          "text": [
            "convert squad examples to features: 100%|██████████| 21187/21187 [01:26<00:00, 245.25it/s]\n",
            "add example index and unique id: 100%|██████████| 21187/21187 [00:00<00:00, 713555.05it/s]\n"
          ]
        }
      ],
      "source": [
        "train_features, train_dataset = squad_convert_examples_to_features(train_examples,\n",
        "                                                       tokenizer,\n",
        "                                                       max_seq_length = 256,\n",
        "                                                       doc_stride = 81,\n",
        "                                                       max_query_length = 81,\n",
        "                                                       is_training = True,\n",
        "                                                       return_dataset = 'pt',\n",
        "                                                       threads = 10\n",
        "                                                       )"
      ]
    },
    {
      "cell_type": "code",
      "execution_count": 15,
      "metadata": {
        "id": "co76EEo5eqOz"
      },
      "outputs": [],
      "source": [
        "del train_examples"
      ]
    },
    {
      "cell_type": "code",
      "execution_count": 14,
      "metadata": {
        "colab": {
          "base_uri": "https://localhost:8080/"
        },
        "id": "6m6MUV1bDadB",
        "outputId": "b5e7c02d-c019-46e0-957e-8e1eb1a4b05f"
      },
      "outputs": [
        {
          "name": "stderr",
          "output_type": "stream",
          "text": [
            "convert squad examples to features: 100%|██████████| 2886/2886 [00:11<00:00, 245.20it/s]\n",
            "add example index and unique id: 100%|██████████| 2886/2886 [00:00<00:00, 305621.77it/s]\n"
          ]
        }
      ],
      "source": [
        "dev_features, dev_dataset = squad_convert_examples_to_features(dev_examples,\n",
        "                                                       tokenizer,\n",
        "                                                       max_seq_length = 256,\n",
        "                                                       doc_stride = 81,\n",
        "                                                       max_query_length = 81,\n",
        "                                                       is_training = False,\n",
        "                                                       return_dataset = 'pt',\n",
        "                                                       threads = 10\n",
        "                                                       )"
      ]
    },
    {
      "cell_type": "code",
      "execution_count": 16,
      "metadata": {
        "id": "6sdIPkuLDcm_"
      },
      "outputs": [],
      "source": [
        "import torch\n",
        "\n",
        "def to_list(tensor):\n",
        "    return tensor.detach().cpu().tolist()\n"
      ]
    },
    {
      "cell_type": "code",
      "execution_count": 31,
      "metadata": {
        "id": "onC2GDR1BSRY"
      },
      "outputs": [],
      "source": [
        "import os\n",
        "import torch\n",
        "from torch.utils.data import DataLoader, SequentialSampler\n",
        "from tqdm import tqdm\n",
        "\n",
        "def evaluate(model, tokenizer, dev_dataset, dev_examples, dev_features, device):\n",
        "    eval_sampler = SequentialSampler(dev_dataset)\n",
        "    eval_dataloader = DataLoader(dev_dataset, sampler=eval_sampler, batch_size=40)\n",
        "    all_results = []\n",
        "    model.to(device)  # Move the model to the desired device\n",
        "\n",
        "    with torch.no_grad():\n",
        "        for batch in tqdm(eval_dataloader, desc=\"Evaluating\"):\n",
        "            model.eval()\n",
        "            batch = tuple(t.to(device) for t in batch)\n",
        "            inputs = {\n",
        "                \"input_ids\": batch[0],\n",
        "                \"attention_mask\": batch[1],\n",
        "                # \"token_type_ids\": batch[2],\n",
        "            }\n",
        "            example_indices = batch[3]\n",
        "            outputs = model(**inputs)\n",
        "            output_model = torch.cat((outputs.start_logits, outputs.end_logits), dim=1)\n",
        "            for i, example_index in enumerate(example_indices):\n",
        "                eval_feature = dev_features[example_index.item()]\n",
        "                unique_id = int(eval_feature.unique_id)\n",
        "                output = outputs.start_logits[i], outputs.end_logits[i]\n",
        "                if isinstance(output, tuple):\n",
        "                    start_logits, end_logits = output\n",
        "                else:\n",
        "                    start_logits, end_logits, _, _ = output.chunk(4)\n",
        "                result = SquadResult(unique_id, start_logits.detach().cpu().numpy(), end_logits.detach().cpu().numpy())\n",
        "                all_results.append(result)\n",
        "\n",
        "    predictions = compute_predictions_logits(\n",
        "        dev_examples,\n",
        "        dev_features,\n",
        "        all_results,\n",
        "        20,\n",
        "        128,\n",
        "        False,\n",
        "        None,\n",
        "        None,\n",
        "        None,\n",
        "        True,\n",
        "        False,\n",
        "        0.0,\n",
        "        tokenizer,\n",
        "    )\n",
        "\n",
        "    results = squad_evaluate(dev_examples, predictions)\n",
        "    return results\n"
      ]
    },
    {
      "cell_type": "code",
      "execution_count": 32,
      "metadata": {
        "id": "UeOfGZ-qDnW0"
      },
      "outputs": [],
      "source": [
        "from torch.utils.tensorboard import SummaryWriter\n",
        "from torch.utils.data import DataLoader, RandomSampler, SequentialSampler\n",
        "from transformers import AdamW, get_linear_schedule_with_warmup\n",
        "from tqdm import trange, tqdm\n",
        "device = torch.device('cuda')"
      ]
    },
    {
      "cell_type": "code",
      "execution_count": null,
      "metadata": {
        "colab": {
          "base_uri": "https://localhost:8080/"
        },
        "id": "q5nOVcMxDqEH",
        "outputId": "8c7e1dc2-2011-499f-e043-f2697ec2adeb"
      },
      "outputs": [
        {
          "name": "stderr",
          "output_type": "stream",
          "text": [
            "Iteration: 100%|██████████| 3290/3290 [1:07:24<00:00,  1.23s/it]\n",
            "Evaluating: 100%|██████████| 89/89 [02:33<00:00,  1.72s/it]\n"
          ]
        },
        {
          "name": "stdout",
          "output_type": "stream",
          "text": [
            "exact: 32.085932085932086\n",
            "f1:49.044079858570676\n"
          ]
        },
        {
          "name": "stderr",
          "output_type": "stream",
          "text": [
            "Iteration:  52%|█████▏    | 1709/3290 [35:03<32:32,  1.24s/it]"
          ]
        },
        {
          "name": "stdout",
          "output_type": "stream",
          "text": [
            " global_step = %s, average loss = %s 5000 1.6033332571521401\n"
          ]
        },
        {
          "name": "stderr",
          "output_type": "stream",
          "text": [
            "Iteration: 100%|██████████| 3290/3290 [1:07:27<00:00,  1.23s/it]\n",
            "Evaluating: 100%|██████████| 89/89 [02:33<00:00,  1.73s/it]\n"
          ]
        },
        {
          "name": "stdout",
          "output_type": "stream",
          "text": [
            "exact: 35.55093555093555\n",
            "f1:52.234824957695245\n"
          ]
        },
        {
          "name": "stderr",
          "output_type": "stream",
          "text": [
            "Iteration: 100%|██████████| 3290/3290 [1:07:26<00:00,  1.23s/it]\n",
            "Evaluating: 100%|██████████| 89/89 [02:33<00:00,  1.72s/it]\n",
            "Epoch:  75%|███████▌  | 3/4 [3:30:59<1:10:19, 4219.30s/it]"
          ]
        },
        {
          "name": "stdout",
          "output_type": "stream",
          "text": [
            "exact: 34.996534996535\n",
            "f1:51.98578210398969\n"
          ]
        },
        {
          "name": "stderr",
          "output_type": "stream",
          "text": [
            "Iteration:   4%|▍         | 129/3290 [02:39<1:04:37,  1.23s/it]"
          ]
        },
        {
          "name": "stdout",
          "output_type": "stream",
          "text": [
            " global_step = %s, average loss = %s 10000 1.159196733378712\n"
          ]
        },
        {
          "name": "stderr",
          "output_type": "stream",
          "text": [
            "Iteration:  11%|█▏        | 377/3290 [07:43<59:32,  1.23s/it]"
          ]
        }
      ],
      "source": [
        "num_epochs = 4\n",
        "tb_writer = SummaryWriter()\n",
        "train_sampler = RandomSampler(train_dataset)\n",
        "train_dataloader = DataLoader(train_dataset, sampler=train_sampler, batch_size=8)\n",
        "t_total = len(train_dataloader) // 1 * num_epochs\n",
        "\n",
        "output_dir = os.path.join('/content/drive/MyDrive/pho-bert/', 'final_model')\n",
        "no_decay = [\"bias\", \"LayerNorm.weight\"]\n",
        "\n",
        "optimizer_grouped_parameters = [\n",
        "    {\n",
        "        \"params\": [p for n, p in model.named_parameters() if not any(nd in n for nd in no_decay)],\n",
        "        \"weight_decay\": 0,\n",
        "    },\n",
        "    {\"params\": [p for n, p in model.named_parameters() if any(nd in n for nd in no_decay)], \"weight_decay\": 0.0},\n",
        "]\n",
        "optimizer = AdamW(optimizer_grouped_parameters, lr=3e-5, eps = 1e-8)\n",
        "scheduler = get_linear_schedule_with_warmup(\n",
        "    optimizer, num_warmup_steps=814, num_training_steps=t_total\n",
        ")\n",
        "\n",
        "device = torch.device('cuda')\n",
        "\n",
        "model.to(device)\n",
        "\n",
        "global_step = 1\n",
        "epochs_trained = 0\n",
        "steps_trained_in_current_epoch = 0\n",
        "tr_loss, logging_loss = 0.0, 0.0\n",
        "\n",
        "model.zero_grad()\n",
        "train_iterator = trange(\n",
        "    epochs_trained, int(num_epochs), desc=\"Epoch\", disable=-1 not in [-1, 0]\n",
        ")\n",
        "\n",
        "from functools import partial\n",
        "tqdm = partial(tqdm, position=0, leave=True)\n",
        "max_f1 = 0\n",
        "patient = 0\n",
        "for _ in train_iterator:\n",
        "    epoch_iterator = tqdm(train_dataloader, desc=\"Iteration\", disable=False)\n",
        "    for step, batch in enumerate(epoch_iterator):\n",
        "        model.train()\n",
        "        batch = tuple(t.to(device) for t in batch)\n",
        "\n",
        "        inputs = {\n",
        "            \"input_ids\": batch[0],\n",
        "            \"attention_mask\": batch[1],\n",
        "            \"start_positions\": batch[3],\n",
        "            \"end_positions\": batch[4],\n",
        "        }\n",
        "\n",
        "        outputs = model(**inputs)\n",
        "        loss = outputs[0]\n",
        "        loss.backward()\n",
        "        tr_loss += loss.item()\n",
        "        torch.nn.utils.clip_grad_norm_(model.parameters(), 1)\n",
        "        optimizer.step()\n",
        "        scheduler.step()\n",
        "        model.zero_grad()\n",
        "        global_step += 1\n",
        "\n",
        "        if global_step % 5000 == 0:\n",
        "            print(\" global_step = %s, average loss = %s\", global_step, tr_loss/global_step)\n",
        "    model.eval()\n",
        "    results = evaluate(model, tokenizer, dev_dataset, dev_examples, dev_features)\n",
        "    print(\"exact: \" + str(results['exact']))\n",
        "    print(\"f1:\" + str(results['f1']))\n",
        "    if results['f1'] >= max_f1:\n",
        "        model_to_save = model.module if hasattr(model, \"module\") else model\n",
        "        model_to_save.save_pretrained(output_dir)\n",
        "        max_f1 = results['f1']\n",
        "        patient = 0\n",
        "    else:\n",
        "        patient = patient+1\n",
        "    if patient == 3:\n",
        "        break\n",
        "\n",
        "del model"
      ]
    },
    {
      "cell_type": "code",
      "execution_count": 33,
      "metadata": {
        "colab": {
          "base_uri": "https://localhost:8080/"
        },
        "id": "rOIMgKmtK-28",
        "outputId": "c25ae49e-27d9-4d91-ddc9-763098bd10e6"
      },
      "outputs": [
        {
          "name": "stderr",
          "output_type": "stream",
          "text": [
            "Special tokens have been added in the vocabulary, make sure the associated word embeddings are fine-tuned or trained.\n"
          ]
        }
      ],
      "source": [
        "\n",
        "model_2 = RobertaForQuestionAnswering(phobert.config).from_pretrained(\"/content/drive/MyDrive/pho-bert/final_model_length_256\").to(torch.device('cpu'))\n",
        "tokenizer_2 = AutoTokenizer.from_pretrained(\"vinai/phobert-large\")"
      ]
    },
    {
      "cell_type": "code",
      "execution_count": 34,
      "metadata": {
        "colab": {
          "base_uri": "https://localhost:8080/"
        },
        "id": "Kerz_vw1LDwC",
        "outputId": "0682774c-caf4-454b-8e40-7e232954d1a9"
      },
      "outputs": [
        {
          "name": "stderr",
          "output_type": "stream",
          "text": [
            "100%|██████████| 15/15 [00:19<00:00,  1.32s/it]\n",
            "convert squad examples to features: 100%|██████████| 4384/4384 [00:16<00:00, 258.72it/s]\n",
            "add example index and unique id: 100%|██████████| 4384/4384 [00:00<00:00, 670574.70it/s]\n"
          ]
        }
      ],
      "source": [
        "test_examples = processor.get_dev_examples('', '/content/drive/MyDrive/pho-bert/test_vi.json')\n",
        "test_features, test_dataset = squad_convert_examples_to_features(test_examples,\n",
        "                                                       tokenizer_2,\n",
        "                                                       max_seq_length = 256,\n",
        "                                                       doc_stride = 81,\n",
        "                                                       max_query_length = 81,\n",
        "                                                       is_training = False,\n",
        "                                                       return_dataset = 'pt',\n",
        "                                                       threads = 10\n",
        "                                                       )"
      ]
    },
    {
      "cell_type": "code",
      "execution_count": 35,
      "metadata": {
        "colab": {
          "base_uri": "https://localhost:8080/"
        },
        "id": "eOMntVbYLG6E",
        "outputId": "314df0f1-29ae-4406-c50f-6fea110555c4"
      },
      "outputs": [
        {
          "name": "stderr",
          "output_type": "stream",
          "text": [
            "Evaluating: 100%|██████████| 130/130 [03:44<00:00,  1.73s/it]\n"
          ]
        },
        {
          "name": "stdout",
          "output_type": "stream",
          "text": [
            "exact 34.215328467153284\n",
            "f1 50.46814053845613\n",
            "total 4384\n",
            "HasAns_exact 51.08991825613079\n",
            "HasAns_f1 75.35842238439771\n",
            "HasAns_total 2936\n",
            "NoAns_exact 0.0\n",
            "NoAns_f1 0.0\n",
            "NoAns_total 1448\n",
            "best_exact 36.792883211678834\n",
            "best_exact_thresh 0.0\n",
            "best_f1 50.51376097641239\n",
            "best_f1_thresh 0.0\n"
          ]
        }
      ],
      "source": [
        "device = torch.device('cuda:0')\n",
        "results = evaluate(model_2, tokenizer_2, test_dataset, test_examples, test_features, device)\n",
        "for key, value in results.items():\n",
        "    print(key, value)"
      ]
    },
    {
      "cell_type": "code",
      "execution_count": 19,
      "metadata": {
        "colab": {
          "base_uri": "https://localhost:8080/"
        },
        "id": "AOCNkWB389sj",
        "outputId": "cf5de23c-d9cf-43b2-a5f8-fc738fa73b43"
      },
      "outputs": [
        {
          "name": "stderr",
          "output_type": "stream",
          "text": [
            "100%|██████████| 15/15 [00:20<00:00,  1.33s/it]\n",
            "convert squad examples to features: 100%|██████████| 4384/4384 [00:17<00:00, 252.63it/s]\n",
            "add example index and unique id: 100%|██████████| 4384/4384 [00:00<00:00, 710311.30it/s]\n"
          ]
        }
      ],
      "source": [
        "test_examples_origin_phobert = processor.get_dev_examples('', '/content/drive/MyDrive/pho-bert/test_vi.json')\n",
        "test_features_origin, test_dataset_origin = squad_convert_examples_to_features(test_examples_origin_phobert,\n",
        "                                                       tokenizer,\n",
        "                                                       max_seq_length = 256,\n",
        "                                                       doc_stride = 81,\n",
        "                                                       max_query_length = 81,\n",
        "                                                       is_training = False,\n",
        "                                                       return_dataset = 'pt',\n",
        "                                                       threads = 10\n",
        "                                                       )"
      ]
    },
    {
      "cell_type": "code",
      "execution_count": 25,
      "metadata": {
        "colab": {
          "base_uri": "https://localhost:8080/"
        },
        "id": "ATCs3TgO9P-O",
        "outputId": "9447c735-f7dd-4a28-9a30-6c609ea34f53"
      },
      "outputs": [
        {
          "name": "stderr",
          "output_type": "stream",
          "text": [
            "Evaluating: 100%|██████████| 130/130 [03:42<00:00,  1.71s/it]\n"
          ]
        },
        {
          "name": "stdout",
          "output_type": "stream",
          "text": [
            "exact 0.02281021897810219\n",
            "f1 6.868781028121566\n",
            "total 4384\n",
            "HasAns_exact 0.0340599455040872\n",
            "HasAns_f1 10.256381480682883\n",
            "HasAns_total 2936\n",
            "NoAns_exact 0.0\n",
            "NoAns_f1 0.0\n",
            "NoAns_total 1448\n",
            "best_exact 33.02919708029197\n",
            "best_exact_thresh 0.0\n",
            "best_f1 33.039515988877305\n",
            "best_f1_thresh 0.0\n"
          ]
        }
      ],
      "source": [
        "device = torch.device('cuda:0')\n",
        "results = evaluate(model, tokenizer, test_dataset_origin, test_examples_origin_phobert, test_features_origin,device)\n",
        "for key, value in results.items():\n",
        "    print(key, value)"
      ]
    }
  ],
  "metadata": {
    "accelerator": "GPU",
    "colab": {
      "gpuType": "T4",
      "provenance": []
    },
    "gpuClass": "standard",
    "kernelspec": {
      "display_name": "Python 3",
      "name": "python3"
    },
    "language_info": {
      "name": "python"
    },
    "widgets": {
      "application/vnd.jupyter.widget-state+json": {
        "0e1318594a664919bb866727c68d85e7": {
          "model_module": "@jupyter-widgets/controls",
          "model_module_version": "1.5.0",
          "model_name": "HTMLModel",
          "state": {
            "_dom_classes": [],
            "_model_module": "@jupyter-widgets/controls",
            "_model_module_version": "1.5.0",
            "_model_name": "HTMLModel",
            "_view_count": null,
            "_view_module": "@jupyter-widgets/controls",
            "_view_module_version": "1.5.0",
            "_view_name": "HTMLView",
            "description": "",
            "description_tooltip": null,
            "layout": "IPY_MODEL_498976ac091241658d0024ff70d1e1b3",
            "placeholder": "​",
            "style": "IPY_MODEL_1d324c20bb4f4d1cabb3672c9afcc620",
            "value": "Downloading (…)lve/main/config.json: 100%"
          }
        },
        "10e45454cc644c08bf7f83928c19252c": {
          "model_module": "@jupyter-widgets/controls",
          "model_module_version": "1.5.0",
          "model_name": "HTMLModel",
          "state": {
            "_dom_classes": [],
            "_model_module": "@jupyter-widgets/controls",
            "_model_module_version": "1.5.0",
            "_model_name": "HTMLModel",
            "_view_count": null,
            "_view_module": "@jupyter-widgets/controls",
            "_view_module_version": "1.5.0",
            "_view_name": "HTMLView",
            "description": "",
            "description_tooltip": null,
            "layout": "IPY_MODEL_3ec7207a47554e2ab01911b699db43de",
            "placeholder": "​",
            "style": "IPY_MODEL_c7302d5ecfc141939356c7b85a8e57bc",
            "value": " 558/558 [00:00&lt;00:00, 33.1kB/s]"
          }
        },
        "14138ea207ba42bfb05e152c6d72c0ce": {
          "model_module": "@jupyter-widgets/controls",
          "model_module_version": "1.5.0",
          "model_name": "HBoxModel",
          "state": {
            "_dom_classes": [],
            "_model_module": "@jupyter-widgets/controls",
            "_model_module_version": "1.5.0",
            "_model_name": "HBoxModel",
            "_view_count": null,
            "_view_module": "@jupyter-widgets/controls",
            "_view_module_version": "1.5.0",
            "_view_name": "HBoxView",
            "box_style": "",
            "children": [
              "IPY_MODEL_f074171f85ee47169e5ab79e2fbc0f2b",
              "IPY_MODEL_476adaf03e824e1ebed0f9fe9e1c87f5",
              "IPY_MODEL_ce7bed6bdc174ced92b663e507bd0f99"
            ],
            "layout": "IPY_MODEL_c92fffe2150c48e69f10006cbaf17335"
          }
        },
        "1d324c20bb4f4d1cabb3672c9afcc620": {
          "model_module": "@jupyter-widgets/controls",
          "model_module_version": "1.5.0",
          "model_name": "DescriptionStyleModel",
          "state": {
            "_model_module": "@jupyter-widgets/controls",
            "_model_module_version": "1.5.0",
            "_model_name": "DescriptionStyleModel",
            "_view_count": null,
            "_view_module": "@jupyter-widgets/base",
            "_view_module_version": "1.2.0",
            "_view_name": "StyleView",
            "description_width": ""
          }
        },
        "1d9d5371171044ecb46dff829254100d": {
          "model_module": "@jupyter-widgets/controls",
          "model_module_version": "1.5.0",
          "model_name": "FloatProgressModel",
          "state": {
            "_dom_classes": [],
            "_model_module": "@jupyter-widgets/controls",
            "_model_module_version": "1.5.0",
            "_model_name": "FloatProgressModel",
            "_view_count": null,
            "_view_module": "@jupyter-widgets/controls",
            "_view_module_version": "1.5.0",
            "_view_name": "ProgressView",
            "bar_style": "success",
            "description": "",
            "description_tooltip": null,
            "layout": "IPY_MODEL_e8884348ce164823a6f5ebe78c1462df",
            "max": 558,
            "min": 0,
            "orientation": "horizontal",
            "style": "IPY_MODEL_920419e675f34477ab100283c351d3ee",
            "value": 558
          }
        },
        "1e4757909cc240cc89fb54c887f92d9a": {
          "model_module": "@jupyter-widgets/controls",
          "model_module_version": "1.5.0",
          "model_name": "ProgressStyleModel",
          "state": {
            "_model_module": "@jupyter-widgets/controls",
            "_model_module_version": "1.5.0",
            "_model_name": "ProgressStyleModel",
            "_view_count": null,
            "_view_module": "@jupyter-widgets/base",
            "_view_module_version": "1.2.0",
            "_view_name": "StyleView",
            "bar_color": null,
            "description_width": ""
          }
        },
        "224016c6bf9348c1b79dc0f4ee7f23f8": {
          "model_module": "@jupyter-widgets/controls",
          "model_module_version": "1.5.0",
          "model_name": "HTMLModel",
          "state": {
            "_dom_classes": [],
            "_model_module": "@jupyter-widgets/controls",
            "_model_module_version": "1.5.0",
            "_model_name": "HTMLModel",
            "_view_count": null,
            "_view_module": "@jupyter-widgets/controls",
            "_view_module_version": "1.5.0",
            "_view_name": "HTMLView",
            "description": "",
            "description_tooltip": null,
            "layout": "IPY_MODEL_8f2c71aa8ab04f2f8c38734fae47c22e",
            "placeholder": "​",
            "style": "IPY_MODEL_e25d786792404cf9a2c30ae5d209b8b1",
            "value": " 1.14M/1.14M [00:01&lt;00:00, 1.08MB/s]"
          }
        },
        "224941d5be384c31b408f25dff2d9eeb": {
          "model_module": "@jupyter-widgets/controls",
          "model_module_version": "1.5.0",
          "model_name": "FloatProgressModel",
          "state": {
            "_dom_classes": [],
            "_model_module": "@jupyter-widgets/controls",
            "_model_module_version": "1.5.0",
            "_model_name": "FloatProgressModel",
            "_view_count": null,
            "_view_module": "@jupyter-widgets/controls",
            "_view_module_version": "1.5.0",
            "_view_name": "ProgressView",
            "bar_style": "success",
            "description": "",
            "description_tooltip": null,
            "layout": "IPY_MODEL_91220185f6d44c138c2a157ab5c8881c",
            "max": 1481467253,
            "min": 0,
            "orientation": "horizontal",
            "style": "IPY_MODEL_9e268394c77c4b4a9b7bd571c1967c42",
            "value": 1481467253
          }
        },
        "2d0e6f54e22d4f02b21be338530be715": {
          "model_module": "@jupyter-widgets/controls",
          "model_module_version": "1.5.0",
          "model_name": "DescriptionStyleModel",
          "state": {
            "_model_module": "@jupyter-widgets/controls",
            "_model_module_version": "1.5.0",
            "_model_name": "DescriptionStyleModel",
            "_view_count": null,
            "_view_module": "@jupyter-widgets/base",
            "_view_module_version": "1.2.0",
            "_view_name": "StyleView",
            "description_width": ""
          }
        },
        "3ec7207a47554e2ab01911b699db43de": {
          "model_module": "@jupyter-widgets/base",
          "model_module_version": "1.2.0",
          "model_name": "LayoutModel",
          "state": {
            "_model_module": "@jupyter-widgets/base",
            "_model_module_version": "1.2.0",
            "_model_name": "LayoutModel",
            "_view_count": null,
            "_view_module": "@jupyter-widgets/base",
            "_view_module_version": "1.2.0",
            "_view_name": "LayoutView",
            "align_content": null,
            "align_items": null,
            "align_self": null,
            "border": null,
            "bottom": null,
            "display": null,
            "flex": null,
            "flex_flow": null,
            "grid_area": null,
            "grid_auto_columns": null,
            "grid_auto_flow": null,
            "grid_auto_rows": null,
            "grid_column": null,
            "grid_gap": null,
            "grid_row": null,
            "grid_template_areas": null,
            "grid_template_columns": null,
            "grid_template_rows": null,
            "height": null,
            "justify_content": null,
            "justify_items": null,
            "left": null,
            "margin": null,
            "max_height": null,
            "max_width": null,
            "min_height": null,
            "min_width": null,
            "object_fit": null,
            "object_position": null,
            "order": null,
            "overflow": null,
            "overflow_x": null,
            "overflow_y": null,
            "padding": null,
            "right": null,
            "top": null,
            "visibility": null,
            "width": null
          }
        },
        "4354b03d95d24284add4bf8caff74f7b": {
          "model_module": "@jupyter-widgets/controls",
          "model_module_version": "1.5.0",
          "model_name": "DescriptionStyleModel",
          "state": {
            "_model_module": "@jupyter-widgets/controls",
            "_model_module_version": "1.5.0",
            "_model_name": "DescriptionStyleModel",
            "_view_count": null,
            "_view_module": "@jupyter-widgets/base",
            "_view_module_version": "1.2.0",
            "_view_name": "StyleView",
            "description_width": ""
          }
        },
        "4667900c195e41439b149c327520eef5": {
          "model_module": "@jupyter-widgets/base",
          "model_module_version": "1.2.0",
          "model_name": "LayoutModel",
          "state": {
            "_model_module": "@jupyter-widgets/base",
            "_model_module_version": "1.2.0",
            "_model_name": "LayoutModel",
            "_view_count": null,
            "_view_module": "@jupyter-widgets/base",
            "_view_module_version": "1.2.0",
            "_view_name": "LayoutView",
            "align_content": null,
            "align_items": null,
            "align_self": null,
            "border": null,
            "bottom": null,
            "display": null,
            "flex": null,
            "flex_flow": null,
            "grid_area": null,
            "grid_auto_columns": null,
            "grid_auto_flow": null,
            "grid_auto_rows": null,
            "grid_column": null,
            "grid_gap": null,
            "grid_row": null,
            "grid_template_areas": null,
            "grid_template_columns": null,
            "grid_template_rows": null,
            "height": null,
            "justify_content": null,
            "justify_items": null,
            "left": null,
            "margin": null,
            "max_height": null,
            "max_width": null,
            "min_height": null,
            "min_width": null,
            "object_fit": null,
            "object_position": null,
            "order": null,
            "overflow": null,
            "overflow_x": null,
            "overflow_y": null,
            "padding": null,
            "right": null,
            "top": null,
            "visibility": null,
            "width": null
          }
        },
        "476adaf03e824e1ebed0f9fe9e1c87f5": {
          "model_module": "@jupyter-widgets/controls",
          "model_module_version": "1.5.0",
          "model_name": "FloatProgressModel",
          "state": {
            "_dom_classes": [],
            "_model_module": "@jupyter-widgets/controls",
            "_model_module_version": "1.5.0",
            "_model_name": "FloatProgressModel",
            "_view_count": null,
            "_view_module": "@jupyter-widgets/controls",
            "_view_module_version": "1.5.0",
            "_view_name": "ProgressView",
            "bar_style": "success",
            "description": "",
            "description_tooltip": null,
            "layout": "IPY_MODEL_b8799948035f4d5a9a9e2242effb034f",
            "max": 895321,
            "min": 0,
            "orientation": "horizontal",
            "style": "IPY_MODEL_89584073972040bca753c6f45894a62e",
            "value": 895321
          }
        },
        "47ad77a64c57429b96ed13abd5bdb8b5": {
          "model_module": "@jupyter-widgets/base",
          "model_module_version": "1.2.0",
          "model_name": "LayoutModel",
          "state": {
            "_model_module": "@jupyter-widgets/base",
            "_model_module_version": "1.2.0",
            "_model_name": "LayoutModel",
            "_view_count": null,
            "_view_module": "@jupyter-widgets/base",
            "_view_module_version": "1.2.0",
            "_view_name": "LayoutView",
            "align_content": null,
            "align_items": null,
            "align_self": null,
            "border": null,
            "bottom": null,
            "display": null,
            "flex": null,
            "flex_flow": null,
            "grid_area": null,
            "grid_auto_columns": null,
            "grid_auto_flow": null,
            "grid_auto_rows": null,
            "grid_column": null,
            "grid_gap": null,
            "grid_row": null,
            "grid_template_areas": null,
            "grid_template_columns": null,
            "grid_template_rows": null,
            "height": null,
            "justify_content": null,
            "justify_items": null,
            "left": null,
            "margin": null,
            "max_height": null,
            "max_width": null,
            "min_height": null,
            "min_width": null,
            "object_fit": null,
            "object_position": null,
            "order": null,
            "overflow": null,
            "overflow_x": null,
            "overflow_y": null,
            "padding": null,
            "right": null,
            "top": null,
            "visibility": null,
            "width": null
          }
        },
        "48faef286f88499bbf74a2eab30321f3": {
          "model_module": "@jupyter-widgets/controls",
          "model_module_version": "1.5.0",
          "model_name": "HTMLModel",
          "state": {
            "_dom_classes": [],
            "_model_module": "@jupyter-widgets/controls",
            "_model_module_version": "1.5.0",
            "_model_name": "HTMLModel",
            "_view_count": null,
            "_view_module": "@jupyter-widgets/controls",
            "_view_module_version": "1.5.0",
            "_view_name": "HTMLView",
            "description": "",
            "description_tooltip": null,
            "layout": "IPY_MODEL_e80bc0b526e9465c926d916e7d29c898",
            "placeholder": "​",
            "style": "IPY_MODEL_52208e7cf2ef42379e08e2972c0b3b80",
            "value": " 1.48G/1.48G [06:46&lt;00:00, 14.8MB/s]"
          }
        },
        "498976ac091241658d0024ff70d1e1b3": {
          "model_module": "@jupyter-widgets/base",
          "model_module_version": "1.2.0",
          "model_name": "LayoutModel",
          "state": {
            "_model_module": "@jupyter-widgets/base",
            "_model_module_version": "1.2.0",
            "_model_name": "LayoutModel",
            "_view_count": null,
            "_view_module": "@jupyter-widgets/base",
            "_view_module_version": "1.2.0",
            "_view_name": "LayoutView",
            "align_content": null,
            "align_items": null,
            "align_self": null,
            "border": null,
            "bottom": null,
            "display": null,
            "flex": null,
            "flex_flow": null,
            "grid_area": null,
            "grid_auto_columns": null,
            "grid_auto_flow": null,
            "grid_auto_rows": null,
            "grid_column": null,
            "grid_gap": null,
            "grid_row": null,
            "grid_template_areas": null,
            "grid_template_columns": null,
            "grid_template_rows": null,
            "height": null,
            "justify_content": null,
            "justify_items": null,
            "left": null,
            "margin": null,
            "max_height": null,
            "max_width": null,
            "min_height": null,
            "min_width": null,
            "object_fit": null,
            "object_position": null,
            "order": null,
            "overflow": null,
            "overflow_x": null,
            "overflow_y": null,
            "padding": null,
            "right": null,
            "top": null,
            "visibility": null,
            "width": null
          }
        },
        "52208e7cf2ef42379e08e2972c0b3b80": {
          "model_module": "@jupyter-widgets/controls",
          "model_module_version": "1.5.0",
          "model_name": "DescriptionStyleModel",
          "state": {
            "_model_module": "@jupyter-widgets/controls",
            "_model_module_version": "1.5.0",
            "_model_name": "DescriptionStyleModel",
            "_view_count": null,
            "_view_module": "@jupyter-widgets/base",
            "_view_module_version": "1.2.0",
            "_view_name": "StyleView",
            "description_width": ""
          }
        },
        "6296e4ec934b493c9ada8bdd97225340": {
          "model_module": "@jupyter-widgets/controls",
          "model_module_version": "1.5.0",
          "model_name": "HBoxModel",
          "state": {
            "_dom_classes": [],
            "_model_module": "@jupyter-widgets/controls",
            "_model_module_version": "1.5.0",
            "_model_name": "HBoxModel",
            "_view_count": null,
            "_view_module": "@jupyter-widgets/controls",
            "_view_module_version": "1.5.0",
            "_view_name": "HBoxView",
            "box_style": "",
            "children": [
              "IPY_MODEL_0e1318594a664919bb866727c68d85e7",
              "IPY_MODEL_1d9d5371171044ecb46dff829254100d",
              "IPY_MODEL_10e45454cc644c08bf7f83928c19252c"
            ],
            "layout": "IPY_MODEL_99732308a2b248d5bacb3cdbe6edcfb2"
          }
        },
        "6df4941705de4425be43fe2be6976d79": {
          "model_module": "@jupyter-widgets/controls",
          "model_module_version": "1.5.0",
          "model_name": "DescriptionStyleModel",
          "state": {
            "_model_module": "@jupyter-widgets/controls",
            "_model_module_version": "1.5.0",
            "_model_name": "DescriptionStyleModel",
            "_view_count": null,
            "_view_module": "@jupyter-widgets/base",
            "_view_module_version": "1.2.0",
            "_view_name": "StyleView",
            "description_width": ""
          }
        },
        "89584073972040bca753c6f45894a62e": {
          "model_module": "@jupyter-widgets/controls",
          "model_module_version": "1.5.0",
          "model_name": "ProgressStyleModel",
          "state": {
            "_model_module": "@jupyter-widgets/controls",
            "_model_module_version": "1.5.0",
            "_model_name": "ProgressStyleModel",
            "_view_count": null,
            "_view_module": "@jupyter-widgets/base",
            "_view_module_version": "1.2.0",
            "_view_name": "StyleView",
            "bar_color": null,
            "description_width": ""
          }
        },
        "8f2c71aa8ab04f2f8c38734fae47c22e": {
          "model_module": "@jupyter-widgets/base",
          "model_module_version": "1.2.0",
          "model_name": "LayoutModel",
          "state": {
            "_model_module": "@jupyter-widgets/base",
            "_model_module_version": "1.2.0",
            "_model_name": "LayoutModel",
            "_view_count": null,
            "_view_module": "@jupyter-widgets/base",
            "_view_module_version": "1.2.0",
            "_view_name": "LayoutView",
            "align_content": null,
            "align_items": null,
            "align_self": null,
            "border": null,
            "bottom": null,
            "display": null,
            "flex": null,
            "flex_flow": null,
            "grid_area": null,
            "grid_auto_columns": null,
            "grid_auto_flow": null,
            "grid_auto_rows": null,
            "grid_column": null,
            "grid_gap": null,
            "grid_row": null,
            "grid_template_areas": null,
            "grid_template_columns": null,
            "grid_template_rows": null,
            "height": null,
            "justify_content": null,
            "justify_items": null,
            "left": null,
            "margin": null,
            "max_height": null,
            "max_width": null,
            "min_height": null,
            "min_width": null,
            "object_fit": null,
            "object_position": null,
            "order": null,
            "overflow": null,
            "overflow_x": null,
            "overflow_y": null,
            "padding": null,
            "right": null,
            "top": null,
            "visibility": null,
            "width": null
          }
        },
        "91220185f6d44c138c2a157ab5c8881c": {
          "model_module": "@jupyter-widgets/base",
          "model_module_version": "1.2.0",
          "model_name": "LayoutModel",
          "state": {
            "_model_module": "@jupyter-widgets/base",
            "_model_module_version": "1.2.0",
            "_model_name": "LayoutModel",
            "_view_count": null,
            "_view_module": "@jupyter-widgets/base",
            "_view_module_version": "1.2.0",
            "_view_name": "LayoutView",
            "align_content": null,
            "align_items": null,
            "align_self": null,
            "border": null,
            "bottom": null,
            "display": null,
            "flex": null,
            "flex_flow": null,
            "grid_area": null,
            "grid_auto_columns": null,
            "grid_auto_flow": null,
            "grid_auto_rows": null,
            "grid_column": null,
            "grid_gap": null,
            "grid_row": null,
            "grid_template_areas": null,
            "grid_template_columns": null,
            "grid_template_rows": null,
            "height": null,
            "justify_content": null,
            "justify_items": null,
            "left": null,
            "margin": null,
            "max_height": null,
            "max_width": null,
            "min_height": null,
            "min_width": null,
            "object_fit": null,
            "object_position": null,
            "order": null,
            "overflow": null,
            "overflow_x": null,
            "overflow_y": null,
            "padding": null,
            "right": null,
            "top": null,
            "visibility": null,
            "width": null
          }
        },
        "920419e675f34477ab100283c351d3ee": {
          "model_module": "@jupyter-widgets/controls",
          "model_module_version": "1.5.0",
          "model_name": "ProgressStyleModel",
          "state": {
            "_model_module": "@jupyter-widgets/controls",
            "_model_module_version": "1.5.0",
            "_model_name": "ProgressStyleModel",
            "_view_count": null,
            "_view_module": "@jupyter-widgets/base",
            "_view_module_version": "1.2.0",
            "_view_name": "StyleView",
            "bar_color": null,
            "description_width": ""
          }
        },
        "99732308a2b248d5bacb3cdbe6edcfb2": {
          "model_module": "@jupyter-widgets/base",
          "model_module_version": "1.2.0",
          "model_name": "LayoutModel",
          "state": {
            "_model_module": "@jupyter-widgets/base",
            "_model_module_version": "1.2.0",
            "_model_name": "LayoutModel",
            "_view_count": null,
            "_view_module": "@jupyter-widgets/base",
            "_view_module_version": "1.2.0",
            "_view_name": "LayoutView",
            "align_content": null,
            "align_items": null,
            "align_self": null,
            "border": null,
            "bottom": null,
            "display": null,
            "flex": null,
            "flex_flow": null,
            "grid_area": null,
            "grid_auto_columns": null,
            "grid_auto_flow": null,
            "grid_auto_rows": null,
            "grid_column": null,
            "grid_gap": null,
            "grid_row": null,
            "grid_template_areas": null,
            "grid_template_columns": null,
            "grid_template_rows": null,
            "height": null,
            "justify_content": null,
            "justify_items": null,
            "left": null,
            "margin": null,
            "max_height": null,
            "max_width": null,
            "min_height": null,
            "min_width": null,
            "object_fit": null,
            "object_position": null,
            "order": null,
            "overflow": null,
            "overflow_x": null,
            "overflow_y": null,
            "padding": null,
            "right": null,
            "top": null,
            "visibility": null,
            "width": null
          }
        },
        "9e268394c77c4b4a9b7bd571c1967c42": {
          "model_module": "@jupyter-widgets/controls",
          "model_module_version": "1.5.0",
          "model_name": "ProgressStyleModel",
          "state": {
            "_model_module": "@jupyter-widgets/controls",
            "_model_module_version": "1.5.0",
            "_model_name": "ProgressStyleModel",
            "_view_count": null,
            "_view_module": "@jupyter-widgets/base",
            "_view_module_version": "1.2.0",
            "_view_name": "StyleView",
            "bar_color": null,
            "description_width": ""
          }
        },
        "a41e5ae68a3549f1966b3a5beff84fc0": {
          "model_module": "@jupyter-widgets/controls",
          "model_module_version": "1.5.0",
          "model_name": "HTMLModel",
          "state": {
            "_dom_classes": [],
            "_model_module": "@jupyter-widgets/controls",
            "_model_module_version": "1.5.0",
            "_model_name": "HTMLModel",
            "_view_count": null,
            "_view_module": "@jupyter-widgets/controls",
            "_view_module_version": "1.5.0",
            "_view_name": "HTMLView",
            "description": "",
            "description_tooltip": null,
            "layout": "IPY_MODEL_4667900c195e41439b149c327520eef5",
            "placeholder": "​",
            "style": "IPY_MODEL_6df4941705de4425be43fe2be6976d79",
            "value": "Downloading (…)solve/main/bpe.codes: 100%"
          }
        },
        "a51e7d3d553b4a1f84c6918005af1bd6": {
          "model_module": "@jupyter-widgets/base",
          "model_module_version": "1.2.0",
          "model_name": "LayoutModel",
          "state": {
            "_model_module": "@jupyter-widgets/base",
            "_model_module_version": "1.2.0",
            "_model_name": "LayoutModel",
            "_view_count": null,
            "_view_module": "@jupyter-widgets/base",
            "_view_module_version": "1.2.0",
            "_view_name": "LayoutView",
            "align_content": null,
            "align_items": null,
            "align_self": null,
            "border": null,
            "bottom": null,
            "display": null,
            "flex": null,
            "flex_flow": null,
            "grid_area": null,
            "grid_auto_columns": null,
            "grid_auto_flow": null,
            "grid_auto_rows": null,
            "grid_column": null,
            "grid_gap": null,
            "grid_row": null,
            "grid_template_areas": null,
            "grid_template_columns": null,
            "grid_template_rows": null,
            "height": null,
            "justify_content": null,
            "justify_items": null,
            "left": null,
            "margin": null,
            "max_height": null,
            "max_width": null,
            "min_height": null,
            "min_width": null,
            "object_fit": null,
            "object_position": null,
            "order": null,
            "overflow": null,
            "overflow_x": null,
            "overflow_y": null,
            "padding": null,
            "right": null,
            "top": null,
            "visibility": null,
            "width": null
          }
        },
        "aa0ce15c39ed4f01ae5ac645fe217f25": {
          "model_module": "@jupyter-widgets/controls",
          "model_module_version": "1.5.0",
          "model_name": "HTMLModel",
          "state": {
            "_dom_classes": [],
            "_model_module": "@jupyter-widgets/controls",
            "_model_module_version": "1.5.0",
            "_model_name": "HTMLModel",
            "_view_count": null,
            "_view_module": "@jupyter-widgets/controls",
            "_view_module_version": "1.5.0",
            "_view_name": "HTMLView",
            "description": "",
            "description_tooltip": null,
            "layout": "IPY_MODEL_f1564c2b33414d1cadf427fa605a89e5",
            "placeholder": "​",
            "style": "IPY_MODEL_4354b03d95d24284add4bf8caff74f7b",
            "value": "Downloading pytorch_model.bin: 100%"
          }
        },
        "b8799948035f4d5a9a9e2242effb034f": {
          "model_module": "@jupyter-widgets/base",
          "model_module_version": "1.2.0",
          "model_name": "LayoutModel",
          "state": {
            "_model_module": "@jupyter-widgets/base",
            "_model_module_version": "1.2.0",
            "_model_name": "LayoutModel",
            "_view_count": null,
            "_view_module": "@jupyter-widgets/base",
            "_view_module_version": "1.2.0",
            "_view_name": "LayoutView",
            "align_content": null,
            "align_items": null,
            "align_self": null,
            "border": null,
            "bottom": null,
            "display": null,
            "flex": null,
            "flex_flow": null,
            "grid_area": null,
            "grid_auto_columns": null,
            "grid_auto_flow": null,
            "grid_auto_rows": null,
            "grid_column": null,
            "grid_gap": null,
            "grid_row": null,
            "grid_template_areas": null,
            "grid_template_columns": null,
            "grid_template_rows": null,
            "height": null,
            "justify_content": null,
            "justify_items": null,
            "left": null,
            "margin": null,
            "max_height": null,
            "max_width": null,
            "min_height": null,
            "min_width": null,
            "object_fit": null,
            "object_position": null,
            "order": null,
            "overflow": null,
            "overflow_x": null,
            "overflow_y": null,
            "padding": null,
            "right": null,
            "top": null,
            "visibility": null,
            "width": null
          }
        },
        "c55755413c6f457ebe00bc77129ec412": {
          "model_module": "@jupyter-widgets/controls",
          "model_module_version": "1.5.0",
          "model_name": "HBoxModel",
          "state": {
            "_dom_classes": [],
            "_model_module": "@jupyter-widgets/controls",
            "_model_module_version": "1.5.0",
            "_model_name": "HBoxModel",
            "_view_count": null,
            "_view_module": "@jupyter-widgets/controls",
            "_view_module_version": "1.5.0",
            "_view_name": "HBoxView",
            "box_style": "",
            "children": [
              "IPY_MODEL_aa0ce15c39ed4f01ae5ac645fe217f25",
              "IPY_MODEL_224941d5be384c31b408f25dff2d9eeb",
              "IPY_MODEL_48faef286f88499bbf74a2eab30321f3"
            ],
            "layout": "IPY_MODEL_a51e7d3d553b4a1f84c6918005af1bd6"
          }
        },
        "c7302d5ecfc141939356c7b85a8e57bc": {
          "model_module": "@jupyter-widgets/controls",
          "model_module_version": "1.5.0",
          "model_name": "DescriptionStyleModel",
          "state": {
            "_model_module": "@jupyter-widgets/controls",
            "_model_module_version": "1.5.0",
            "_model_name": "DescriptionStyleModel",
            "_view_count": null,
            "_view_module": "@jupyter-widgets/base",
            "_view_module_version": "1.2.0",
            "_view_name": "StyleView",
            "description_width": ""
          }
        },
        "c92fffe2150c48e69f10006cbaf17335": {
          "model_module": "@jupyter-widgets/base",
          "model_module_version": "1.2.0",
          "model_name": "LayoutModel",
          "state": {
            "_model_module": "@jupyter-widgets/base",
            "_model_module_version": "1.2.0",
            "_model_name": "LayoutModel",
            "_view_count": null,
            "_view_module": "@jupyter-widgets/base",
            "_view_module_version": "1.2.0",
            "_view_name": "LayoutView",
            "align_content": null,
            "align_items": null,
            "align_self": null,
            "border": null,
            "bottom": null,
            "display": null,
            "flex": null,
            "flex_flow": null,
            "grid_area": null,
            "grid_auto_columns": null,
            "grid_auto_flow": null,
            "grid_auto_rows": null,
            "grid_column": null,
            "grid_gap": null,
            "grid_row": null,
            "grid_template_areas": null,
            "grid_template_columns": null,
            "grid_template_rows": null,
            "height": null,
            "justify_content": null,
            "justify_items": null,
            "left": null,
            "margin": null,
            "max_height": null,
            "max_width": null,
            "min_height": null,
            "min_width": null,
            "object_fit": null,
            "object_position": null,
            "order": null,
            "overflow": null,
            "overflow_x": null,
            "overflow_y": null,
            "padding": null,
            "right": null,
            "top": null,
            "visibility": null,
            "width": null
          }
        },
        "ce7bed6bdc174ced92b663e507bd0f99": {
          "model_module": "@jupyter-widgets/controls",
          "model_module_version": "1.5.0",
          "model_name": "HTMLModel",
          "state": {
            "_dom_classes": [],
            "_model_module": "@jupyter-widgets/controls",
            "_model_module_version": "1.5.0",
            "_model_name": "HTMLModel",
            "_view_count": null,
            "_view_module": "@jupyter-widgets/controls",
            "_view_module_version": "1.5.0",
            "_view_name": "HTMLView",
            "description": "",
            "description_tooltip": null,
            "layout": "IPY_MODEL_e3d8b7b95ee8470fb481e246628f2ae7",
            "placeholder": "​",
            "style": "IPY_MODEL_f9636941fabf4745b7d31163bb2902d7",
            "value": " 895k/895k [00:00&lt;00:00, 1.06MB/s]"
          }
        },
        "d8418517ca0a43119e7417d2f15854dc": {
          "model_module": "@jupyter-widgets/controls",
          "model_module_version": "1.5.0",
          "model_name": "FloatProgressModel",
          "state": {
            "_dom_classes": [],
            "_model_module": "@jupyter-widgets/controls",
            "_model_module_version": "1.5.0",
            "_model_name": "FloatProgressModel",
            "_view_count": null,
            "_view_module": "@jupyter-widgets/controls",
            "_view_module_version": "1.5.0",
            "_view_name": "ProgressView",
            "bar_style": "success",
            "description": "",
            "description_tooltip": null,
            "layout": "IPY_MODEL_47ad77a64c57429b96ed13abd5bdb8b5",
            "max": 1135173,
            "min": 0,
            "orientation": "horizontal",
            "style": "IPY_MODEL_1e4757909cc240cc89fb54c887f92d9a",
            "value": 1135173
          }
        },
        "e25d786792404cf9a2c30ae5d209b8b1": {
          "model_module": "@jupyter-widgets/controls",
          "model_module_version": "1.5.0",
          "model_name": "DescriptionStyleModel",
          "state": {
            "_model_module": "@jupyter-widgets/controls",
            "_model_module_version": "1.5.0",
            "_model_name": "DescriptionStyleModel",
            "_view_count": null,
            "_view_module": "@jupyter-widgets/base",
            "_view_module_version": "1.2.0",
            "_view_name": "StyleView",
            "description_width": ""
          }
        },
        "e3d8b7b95ee8470fb481e246628f2ae7": {
          "model_module": "@jupyter-widgets/base",
          "model_module_version": "1.2.0",
          "model_name": "LayoutModel",
          "state": {
            "_model_module": "@jupyter-widgets/base",
            "_model_module_version": "1.2.0",
            "_model_name": "LayoutModel",
            "_view_count": null,
            "_view_module": "@jupyter-widgets/base",
            "_view_module_version": "1.2.0",
            "_view_name": "LayoutView",
            "align_content": null,
            "align_items": null,
            "align_self": null,
            "border": null,
            "bottom": null,
            "display": null,
            "flex": null,
            "flex_flow": null,
            "grid_area": null,
            "grid_auto_columns": null,
            "grid_auto_flow": null,
            "grid_auto_rows": null,
            "grid_column": null,
            "grid_gap": null,
            "grid_row": null,
            "grid_template_areas": null,
            "grid_template_columns": null,
            "grid_template_rows": null,
            "height": null,
            "justify_content": null,
            "justify_items": null,
            "left": null,
            "margin": null,
            "max_height": null,
            "max_width": null,
            "min_height": null,
            "min_width": null,
            "object_fit": null,
            "object_position": null,
            "order": null,
            "overflow": null,
            "overflow_x": null,
            "overflow_y": null,
            "padding": null,
            "right": null,
            "top": null,
            "visibility": null,
            "width": null
          }
        },
        "e80bc0b526e9465c926d916e7d29c898": {
          "model_module": "@jupyter-widgets/base",
          "model_module_version": "1.2.0",
          "model_name": "LayoutModel",
          "state": {
            "_model_module": "@jupyter-widgets/base",
            "_model_module_version": "1.2.0",
            "_model_name": "LayoutModel",
            "_view_count": null,
            "_view_module": "@jupyter-widgets/base",
            "_view_module_version": "1.2.0",
            "_view_name": "LayoutView",
            "align_content": null,
            "align_items": null,
            "align_self": null,
            "border": null,
            "bottom": null,
            "display": null,
            "flex": null,
            "flex_flow": null,
            "grid_area": null,
            "grid_auto_columns": null,
            "grid_auto_flow": null,
            "grid_auto_rows": null,
            "grid_column": null,
            "grid_gap": null,
            "grid_row": null,
            "grid_template_areas": null,
            "grid_template_columns": null,
            "grid_template_rows": null,
            "height": null,
            "justify_content": null,
            "justify_items": null,
            "left": null,
            "margin": null,
            "max_height": null,
            "max_width": null,
            "min_height": null,
            "min_width": null,
            "object_fit": null,
            "object_position": null,
            "order": null,
            "overflow": null,
            "overflow_x": null,
            "overflow_y": null,
            "padding": null,
            "right": null,
            "top": null,
            "visibility": null,
            "width": null
          }
        },
        "e83b1426c3b243b1a1f57200d25ccd4e": {
          "model_module": "@jupyter-widgets/base",
          "model_module_version": "1.2.0",
          "model_name": "LayoutModel",
          "state": {
            "_model_module": "@jupyter-widgets/base",
            "_model_module_version": "1.2.0",
            "_model_name": "LayoutModel",
            "_view_count": null,
            "_view_module": "@jupyter-widgets/base",
            "_view_module_version": "1.2.0",
            "_view_name": "LayoutView",
            "align_content": null,
            "align_items": null,
            "align_self": null,
            "border": null,
            "bottom": null,
            "display": null,
            "flex": null,
            "flex_flow": null,
            "grid_area": null,
            "grid_auto_columns": null,
            "grid_auto_flow": null,
            "grid_auto_rows": null,
            "grid_column": null,
            "grid_gap": null,
            "grid_row": null,
            "grid_template_areas": null,
            "grid_template_columns": null,
            "grid_template_rows": null,
            "height": null,
            "justify_content": null,
            "justify_items": null,
            "left": null,
            "margin": null,
            "max_height": null,
            "max_width": null,
            "min_height": null,
            "min_width": null,
            "object_fit": null,
            "object_position": null,
            "order": null,
            "overflow": null,
            "overflow_x": null,
            "overflow_y": null,
            "padding": null,
            "right": null,
            "top": null,
            "visibility": null,
            "width": null
          }
        },
        "e8884348ce164823a6f5ebe78c1462df": {
          "model_module": "@jupyter-widgets/base",
          "model_module_version": "1.2.0",
          "model_name": "LayoutModel",
          "state": {
            "_model_module": "@jupyter-widgets/base",
            "_model_module_version": "1.2.0",
            "_model_name": "LayoutModel",
            "_view_count": null,
            "_view_module": "@jupyter-widgets/base",
            "_view_module_version": "1.2.0",
            "_view_name": "LayoutView",
            "align_content": null,
            "align_items": null,
            "align_self": null,
            "border": null,
            "bottom": null,
            "display": null,
            "flex": null,
            "flex_flow": null,
            "grid_area": null,
            "grid_auto_columns": null,
            "grid_auto_flow": null,
            "grid_auto_rows": null,
            "grid_column": null,
            "grid_gap": null,
            "grid_row": null,
            "grid_template_areas": null,
            "grid_template_columns": null,
            "grid_template_rows": null,
            "height": null,
            "justify_content": null,
            "justify_items": null,
            "left": null,
            "margin": null,
            "max_height": null,
            "max_width": null,
            "min_height": null,
            "min_width": null,
            "object_fit": null,
            "object_position": null,
            "order": null,
            "overflow": null,
            "overflow_x": null,
            "overflow_y": null,
            "padding": null,
            "right": null,
            "top": null,
            "visibility": null,
            "width": null
          }
        },
        "ecb3928d89ce44cb9c8bf60b7a2af141": {
          "model_module": "@jupyter-widgets/base",
          "model_module_version": "1.2.0",
          "model_name": "LayoutModel",
          "state": {
            "_model_module": "@jupyter-widgets/base",
            "_model_module_version": "1.2.0",
            "_model_name": "LayoutModel",
            "_view_count": null,
            "_view_module": "@jupyter-widgets/base",
            "_view_module_version": "1.2.0",
            "_view_name": "LayoutView",
            "align_content": null,
            "align_items": null,
            "align_self": null,
            "border": null,
            "bottom": null,
            "display": null,
            "flex": null,
            "flex_flow": null,
            "grid_area": null,
            "grid_auto_columns": null,
            "grid_auto_flow": null,
            "grid_auto_rows": null,
            "grid_column": null,
            "grid_gap": null,
            "grid_row": null,
            "grid_template_areas": null,
            "grid_template_columns": null,
            "grid_template_rows": null,
            "height": null,
            "justify_content": null,
            "justify_items": null,
            "left": null,
            "margin": null,
            "max_height": null,
            "max_width": null,
            "min_height": null,
            "min_width": null,
            "object_fit": null,
            "object_position": null,
            "order": null,
            "overflow": null,
            "overflow_x": null,
            "overflow_y": null,
            "padding": null,
            "right": null,
            "top": null,
            "visibility": null,
            "width": null
          }
        },
        "f074171f85ee47169e5ab79e2fbc0f2b": {
          "model_module": "@jupyter-widgets/controls",
          "model_module_version": "1.5.0",
          "model_name": "HTMLModel",
          "state": {
            "_dom_classes": [],
            "_model_module": "@jupyter-widgets/controls",
            "_model_module_version": "1.5.0",
            "_model_name": "HTMLModel",
            "_view_count": null,
            "_view_module": "@jupyter-widgets/controls",
            "_view_module_version": "1.5.0",
            "_view_name": "HTMLView",
            "description": "",
            "description_tooltip": null,
            "layout": "IPY_MODEL_e83b1426c3b243b1a1f57200d25ccd4e",
            "placeholder": "​",
            "style": "IPY_MODEL_2d0e6f54e22d4f02b21be338530be715",
            "value": "Downloading (…)solve/main/vocab.txt: 100%"
          }
        },
        "f1564c2b33414d1cadf427fa605a89e5": {
          "model_module": "@jupyter-widgets/base",
          "model_module_version": "1.2.0",
          "model_name": "LayoutModel",
          "state": {
            "_model_module": "@jupyter-widgets/base",
            "_model_module_version": "1.2.0",
            "_model_name": "LayoutModel",
            "_view_count": null,
            "_view_module": "@jupyter-widgets/base",
            "_view_module_version": "1.2.0",
            "_view_name": "LayoutView",
            "align_content": null,
            "align_items": null,
            "align_self": null,
            "border": null,
            "bottom": null,
            "display": null,
            "flex": null,
            "flex_flow": null,
            "grid_area": null,
            "grid_auto_columns": null,
            "grid_auto_flow": null,
            "grid_auto_rows": null,
            "grid_column": null,
            "grid_gap": null,
            "grid_row": null,
            "grid_template_areas": null,
            "grid_template_columns": null,
            "grid_template_rows": null,
            "height": null,
            "justify_content": null,
            "justify_items": null,
            "left": null,
            "margin": null,
            "max_height": null,
            "max_width": null,
            "min_height": null,
            "min_width": null,
            "object_fit": null,
            "object_position": null,
            "order": null,
            "overflow": null,
            "overflow_x": null,
            "overflow_y": null,
            "padding": null,
            "right": null,
            "top": null,
            "visibility": null,
            "width": null
          }
        },
        "f5b7f642527248789e74bd44d0d26559": {
          "model_module": "@jupyter-widgets/controls",
          "model_module_version": "1.5.0",
          "model_name": "HBoxModel",
          "state": {
            "_dom_classes": [],
            "_model_module": "@jupyter-widgets/controls",
            "_model_module_version": "1.5.0",
            "_model_name": "HBoxModel",
            "_view_count": null,
            "_view_module": "@jupyter-widgets/controls",
            "_view_module_version": "1.5.0",
            "_view_name": "HBoxView",
            "box_style": "",
            "children": [
              "IPY_MODEL_a41e5ae68a3549f1966b3a5beff84fc0",
              "IPY_MODEL_d8418517ca0a43119e7417d2f15854dc",
              "IPY_MODEL_224016c6bf9348c1b79dc0f4ee7f23f8"
            ],
            "layout": "IPY_MODEL_ecb3928d89ce44cb9c8bf60b7a2af141"
          }
        },
        "f9636941fabf4745b7d31163bb2902d7": {
          "model_module": "@jupyter-widgets/controls",
          "model_module_version": "1.5.0",
          "model_name": "DescriptionStyleModel",
          "state": {
            "_model_module": "@jupyter-widgets/controls",
            "_model_module_version": "1.5.0",
            "_model_name": "DescriptionStyleModel",
            "_view_count": null,
            "_view_module": "@jupyter-widgets/base",
            "_view_module_version": "1.2.0",
            "_view_name": "StyleView",
            "description_width": ""
          }
        }
      }
    }
  },
  "nbformat": 4,
  "nbformat_minor": 0
}
